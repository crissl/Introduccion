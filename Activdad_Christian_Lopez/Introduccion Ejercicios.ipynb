{
 "cells": [
  {
   "cell_type": "markdown",
   "metadata": {},
   "source": [
    "# Actividades de Introducción a la programación con Python\n",
    "\n",
    "# 1.Calcular el mínimo común múltiplo de dos números.\n"
   ]
  },
  {
   "cell_type": "code",
   "execution_count": 3,
   "metadata": {},
   "outputs": [
    {
     "name": "stdout",
     "output_type": "stream",
     "text": [
      "6\n",
      "60\n"
     ]
    }
   ],
   "source": [
    "# Se requiere calcular  el minimo común  multiplo de dos números\n",
    "# función python \n",
    "def minimo(x,y):\n",
    "    num=max(x, y)\n",
    "#creamos un cliclo while\n",
    "    while True:\n",
    "        if( num % x == 0) and ( num % y == 0):\n",
    "            return num \n",
    "        num += 1 # se añade 1 al num \n",
    "\n",
    "print(minimo(3, 6))\n",
    "print(minimo(20, 30))"
   ]
  },
  {
   "cell_type": "markdown",
   "metadata": {},
   "source": [
    "# 2 .Calcular el máximo común divisor de dos números.\n"
   ]
  },
  {
   "cell_type": "code",
   "execution_count": 24,
   "metadata": {},
   "outputs": [
    {
     "name": "stdout",
     "output_type": "stream",
     "text": [
      "2\n",
      "1\n",
      "1\n"
     ]
    }
   ],
   "source": [
    "# Ejercicio para calcular el máximo común divisor \n",
    "# creamos una  función\n",
    "\n",
    "def maximo(x, y):\n",
    "    maximo = 1 #creamos una variable multiplo de 1\n",
    "    \n",
    "    if x % y == 0:\n",
    "        return y # la variable y sera el máximo común divisor\n",
    "    \n",
    "    for k in range(int(y/2), 0, -1): # reducimos para que alcanze el valor 1 \n",
    "        if x % k == 0 and y % k == 0: #comprobamos  si x y y es igual a 0 k sera el divisor entre x y y\n",
    "            mcd = k\n",
    "            break\n",
    "        \n",
    "    return mcd\n",
    "\n",
    "print(maximo(10,2))\n",
    "print(maximo(43,7))\n",
    "print(maximo(25,9))"
   ]
  },
  {
   "cell_type": "markdown",
   "metadata": {},
   "source": [
    "# 3.Gráfico de tarta  con Mapplotlib"
   ]
  },
  {
   "cell_type": "code",
   "execution_count": 12,
   "metadata": {},
   "outputs": [
    {
     "data": {
      "image/png": "[encoded data removed]",
      "text/plain": [
       "<Figure size 432x288 with 1 Axes>"
      ]
     },
     "metadata": {},
     "output_type": "display_data"
    }
   ],
   "source": [
    "import matplotlib.pyplot as plt\n",
    "from matplotlib import cm\n",
    "from matplotlib import colors\n",
    "# Se desea repartir el dibero de una obra civil decuerdo a los días de trabajo estarían \n",
    "dias = [60,50,35,50]\n",
    "cargos = [\"Ingeniero Civil \",\"Arquitecto\",\"topógrafo\",\"obreros\"]\n",
    "\n",
    "normdata = colors.Normalize(min(dias), max(dias)) \n",
    "colormap = cm.get_cmap(\"Blues\") # color del pastel\n",
    "colores =colormap(normdata(dias))\n",
    "\n",
    "plt.pie(dias, labels=cargos, autopct=\"%0.1f %%\", colors=colores)# muestra  porcentajes\n",
    "plt.axis(\"equal\")\n",
    "plt.show()"
   ]
  },
  {
   "cell_type": "markdown",
   "metadata": {},
   "source": [
    "# 4.Scatter Plot con Mapplotlib en Python"
   ]
  },
  {
   "cell_type": "code",
   "execution_count": 21,
   "metadata": {},
   "outputs": [
    {
     "data": {
      "text/plain": [
       "Text(1, 20, 'Mayor actividad sismica')"
      ]
     },
     "execution_count": 21,
     "metadata": {},
     "output_type": "execute_result"
    },
    {
     "data": {
      "image/png": "[encoded data removed]",
      "text/plain": [
       "<Figure size 432x288 with 1 Axes>"
      ]
     },
     "metadata": {
      "needs_background": "light"
     },
     "output_type": "display_data"
    }
   ],
   "source": [
    "\n",
    "import matplotlib.pyplot as plt\n",
    "import numpy as np\n",
    "import pandas as pd\n",
    " \n",
    "\n",
    "# Generamos un rango  del  plot\n",
    "df=pd.DataFrame({'x': range(1,101), 't': np.random.randn(100)*15+range(1,101) })\n",
    "plt.plot( 'x', 't', data=df, linestyle='none', marker='o')\n",
    " \n",
    "# Aqui adjuntamos texto al Gráfico\n",
    "plt.annotate(\n",
    "# Etiqueta de texto\n",
    "'Mayor actividad sismica', xy=(4, 30), xytext=(1, 20), # Se podriancolocar sensores en un area que indican las cordenadas\n",
    "                                                       # Donde se repita la activad sismica para detectar los puntos mas exactos\n",
    "# Flecha\n",
    "arrowprops=dict(facecolor='green', shrink=0.05)\n",
    ")"
   ]
  },
  {
   "cell_type": "markdown",
   "metadata": {},
   "source": [
    "# 5.Explique cómo combinar 4 gráficos en una única figura (subplot)?.\n",
    "\n",
    "Puede combinar las gráficas de varias maneras. Combine las gráficas en los mismos ejes o cree varios ejes en una figura utilizando un diseño de gráfica segmentado.\n",
    "De forma predeterminada, las nuevas gráficas eliminan las gráficas existentes y restablecen las propiedades, como por ejemplo el título. Sin embargo, puede utilizar el comando hold on para combinar varias gráficas en los mismos ejes. Por ejemplo, represente dos líneas y un diagrama de dispersión. Después restablezca el estado de permanencia en desactivado."
   ]
  },
  {
   "cell_type": "markdown",
   "metadata": {},
   "source": [
    "import matplotlib.pyplot as plt\n",
    "import numpy as np\n",
    "import pandas as pd\n",
    "\n",
    "x = linspace(0,10,50);\n",
    "y1 = sin(x);\n",
    "y2 = rand(50,1);\n",
    "tiledlayout(2,1)\n",
    "\n",
    "% Top plot\n",
    "nexttile\n",
    "plot(x,y1)\n",
    "title('Plot 1')\n",
    "\n",
    "% Bottom plot\n",
    "nexttile\n",
    "scatter(x,y2)\n",
    "title('Plot 2')\n"
   ]
  }
 ],
 "metadata": {
  "kernelspec": {
   "display_name": "Python 3",
   "language": "python",
   "name": "python3"
  },
  "language_info": {
   "codemirror_mode": {
    "name": "ipython",
    "version": 3
   },
   "file_extension": ".py",
   "mimetype": "text/x-python",
   "name": "python",
   "nbconvert_exporter": "python",
   "pygments_lexer": "ipython3",
   "version": "3.7.6"
  }
 },
 "nbformat": 4,
 "nbformat_minor": 4
}
