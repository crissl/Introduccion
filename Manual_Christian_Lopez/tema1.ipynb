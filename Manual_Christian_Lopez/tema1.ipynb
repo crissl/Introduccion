{
 "cells": [
  {
   "cell_type": "markdown",
   "metadata": {},
   "source": [
    "# INTRODUCCIÓN A PYTHON\n",
    "\n"
   ]
  },
  {
   "cell_type": "markdown",
   "metadata": {},
   "source": [
    "# Comentarios\n",
    "Se comententa de el texto al inicio con un numeral o almuadilla *#*\n",
    "como en el ejemplo a continuacion:"
   ]
  },
  {
   "cell_type": "code",
   "execution_count": 7,
   "metadata": {},
   "outputs": [],
   "source": [
    "# este es un ejemplo de comentario"
   ]
  },
  {
   "cell_type": "markdown",
   "metadata": {},
   "source": [
    "# Imprimir \n",
    "Para imprimir algo debe colocar un print despues un parentesis y dentro lo que se quiere imprimir, si es un string entre comillas y si son números un primero la palabra str parentesis y y dentro del parentesis el numero.\n",
    "Ejemplo a continuacion:"
   ]
  },
  {
   "cell_type": "code",
   "execution_count": 8,
   "metadata": {},
   "outputs": [
    {
     "name": "stdout",
     "output_type": "stream",
     "text": [
      "estos son los números pares entre 1 y 10 : 2468\n"
     ]
    }
   ],
   "source": [
    "print(\"estos son los números pares entre 1 y 10 : \" + str(2468) )"
   ]
  },
  {
   "cell_type": "markdown",
   "metadata": {},
   "source": [
    "**nota:** con el signo **+** se pude concatenar si se quiere imprimir varias cosas en un print"
   ]
  },
  {
   "cell_type": "code",
   "execution_count": 1,
   "metadata": {},
   "outputs": [
    {
     "name": "stdout",
     "output_type": "stream",
     "text": [
      "esta es una cadena de texto:  \n"
     ]
    }
   ],
   "source": [
    "print(\"esta es una cadena de texto:  \" + \"\" )"
   ]
  },
  {
   "cell_type": "markdown",
   "metadata": {},
   "source": [
    "# variables"
   ]
  },
  {
   "cell_type": "markdown",
   "metadata": {},
   "source": [
    "Se pueden alojar en variables los valores que desea, para luego llamarlos y tener con el nombre que describa el valor del la variable como el siguiente ejemplo:\n",
    "\n",
    "Variable numérica"
   ]
  },
  {
   "cell_type": "code",
   "execution_count": 2,
   "metadata": {},
   "outputs": [
    {
     "name": "stdout",
     "output_type": "stream",
     "text": [
      "esta una variable numerica : 5\n"
     ]
    }
   ],
   "source": [
    "variable_numerica = 5\n",
    "\n",
    "print(\"esta una variable numerica : \" + str(variable_numerica) )"
   ]
  },
  {
   "cell_type": "markdown",
   "metadata": {},
   "source": [
    "Muy parecido ala manera de imprimir en ejemplos anteriuosres con la difrencia que no se colocan los valores directamente si no que mandaremos a llamar a estos valores\n",
    "\n",
    "ahora un ejemplo con un texto:"
   ]
  },
  {
   "cell_type": "code",
   "execution_count": 5,
   "metadata": {},
   "outputs": [
    {
     "name": "stdout",
     "output_type": "stream",
     "text": [
      "esta una variable numerica : ejemplo de string\n"
     ]
    }
   ],
   "source": [
    "varible_string = \"ejemplo de string\"\n",
    "\n",
    "print(\"esta una variable numerica : \" + varible_string )"
   ]
  },
  {
   "cell_type": "markdown",
   "metadata": {},
   "source": [
    "como se pude apreciar en el ejemplo de igual manare se colaca el textro entre comillas doble par llamarlo y no es nesesario colocarlo dentro de un parentesis.\n",
    "\n",
    "Es preferible iniciar con una mayuscula en las variables y es importante el orden del código.\n",
    "\n",
    "Ejemplo:"
   ]
  },
  {
   "cell_type": "code",
   "execution_count": 9,
   "metadata": {},
   "outputs": [
    {
     "name": "stdout",
     "output_type": "stream",
     "text": [
      "5\n",
      "10\n"
     ]
    }
   ],
   "source": [
    "Variable = 5\n",
    "variable = 10\n",
    "\n",
    "print(Variable)\n",
    "print(variable)"
   ]
  },
  {
   "cell_type": "markdown",
   "metadata": {},
   "source": [
    "# Variables globales\n",
    "\n",
    "De alguna manera se pueden hacer variables reutilizables con la informacion que consiraremos que va mantener su valor \n",
    "llmadas constantes y podemos escribirlas en mayusculas para diferenciarlas de las demas variables."
   ]
  },
  {
   "cell_type": "code",
   "execution_count": 10,
   "metadata": {},
   "outputs": [],
   "source": [
    "COSTANTE_EJEMPLO = 15"
   ]
  },
  {
   "cell_type": "markdown",
   "metadata": {},
   "source": [
    "# Tipos de variables\n",
    "Se pùede saber el tipo de variable mediante un **type** antes de la variable\n",
    "Ejemplo:"
   ]
  },
  {
   "cell_type": "code",
   "execution_count": 4,
   "metadata": {},
   "outputs": [
    {
     "name": "stdout",
     "output_type": "stream",
     "text": [
      "<class 'int'>\n",
      "<class 'str'>\n"
     ]
    }
   ],
   "source": [
    "Variable = 5\n",
    "variable =\"texto de prueba\"\n",
    "print(type(Variable))\n",
    "print(type(variable))\n"
   ]
  },
  {
   "cell_type": "markdown",
   "metadata": {},
   "source": [
    "Se puede convertir el mismo valor de una variable en distintas formas, como mostramos a continuación"
   ]
  },
  {
   "cell_type": "code",
   "execution_count": 9,
   "metadata": {},
   "outputs": [
    {
     "name": "stdout",
     "output_type": "stream",
     "text": [
      "5.85\n",
      "5.85\n",
      "<class 'float'>\n",
      "<class 'str'>\n",
      "5\n",
      "5.85\n",
      "5\n"
     ]
    }
   ],
   "source": [
    "numero_real = 5.85\n",
    "print((numero_real))\n",
    "print(str(numero_real))\n",
    "print(type(numero_real))\n",
    "print(type(str(numero_real)))\n",
    "print(int(numero_real))\n",
    "print(float(str(numero_real)))\n",
    "print(int(\"5\"))\n"
   ]
  },
  {
   "cell_type": "markdown",
   "metadata": {},
   "source": [
    "Se pueden acceder a los elementos de una cadena de la siguienta manera:\n"
   ]
  },
  {
   "cell_type": "code",
   "execution_count": 23,
   "metadata": {},
   "outputs": [
    {
     "name": "stdout",
     "output_type": "stream",
     "text": [
      "t\n",
      "mir \n",
      "imprimir\n",
      "mir texto ahora\n",
      "20\n"
     ]
    }
   ],
   "source": [
    "cadena = \"imprimir texto ahora\"\n",
    "print(cadena[7])  # simpre se comienza a recorrer desde 0 \n",
    "print(cadena[5:9])# para letras que se encuentren dentro desde este rango\n",
    "print(cadena[:8]) # recorrera e imprimira las palabras hasta letra numero 8 tambien cunta espacios\n",
    "print(cadena[5:]) # recorrera las letras e imprimira hasta 5 \n",
    "print(len(cadena))# recorre e imprime el valor de la longuitud de la cadena\n",
    "\n"
   ]
  },
  {
   "cell_type": "markdown",
   "metadata": {},
   "source": [
    "Como se aprecia en el ejemplo anterior, podemos escoger imprimir partes de una cadena especificandolos en intervalos y colocarlos en corchetes, ademas de saber su longitud pues, de esta manra recorreria el array"
   ]
  },
  {
   "cell_type": "markdown",
   "metadata": {},
   "source": [
    "\n",
    "# Colecciones\n",
    "Se pueden hacer colecciones no ordenadas y sin elementos repetidos. Pueden ser útiles en distintos tipos de situaciones.\n",
    "A continuacion se procedera hacer un conjunto en phyton:\n"
   ]
  },
  {
   "cell_type": "code",
   "execution_count": 36,
   "metadata": {},
   "outputs": [
    {
     "name": "stdout",
     "output_type": "stream",
     "text": [
      "{'pantalon', 'medias', 'gorra', 'camisa'}\n",
      "<class 'set'>\n",
      "pantalon\n",
      "pantalon\n",
      "{'medias', 'gorra', 'camisa'}\n",
      "{'medias', 'gorra', 'camisa'}\n"
     ]
    }
   ],
   "source": [
    "ropa = {'camisa', 'pantalon', 'medias', 'gorra' }\n",
    "print(ropa)\n",
    "print(type(ropa))\n",
    "\n",
    "print(next(iter(ropa)))\n",
    "print(ropa.pop())\n",
    "print(ropa)\n",
    "ropa.add('gorra')\n",
    "print(ropa)\n"
   ]
  },
  {
   "cell_type": "markdown",
   "metadata": {},
   "source": [
    "viendo los ejemplos sabemos que se puede iprimir el primer elemento de un conjunto y si volvemos a llamar al mismo conjunto desaparecera el primer elemento pues ya fue llamado previamente.\n",
    "\n",
    "\n",
    "# Listas\n",
    "Las listas son una de las estructuras más frecuente en Python, permite acumular y\n",
    "manipular datos de forma sencilla.\n",
    " a continuacion el ejemplo de crear una lista en phyton:"
   ]
  },
  {
   "cell_type": "code",
   "execution_count": 46,
   "metadata": {},
   "outputs": [
    {
     "name": "stdout",
     "output_type": "stream",
     "text": [
      "<class 'list'>\n",
      "{'pantalon', 'medias', 'gorra', 'camisa'}\n",
      "<class 'set'>\n",
      "True\n",
      "['camisa', 'pantalon', 'medias', 'gorra', 'camiseta']\n",
      "3\n"
     ]
    }
   ],
   "source": [
    "ropa = ['camisa', 'pantalon', 'medias', 'gorra']\n",
    "print(type(ropa))\n",
    "\n",
    "# Se puede asignar una variable a la lista para llamarla\n",
    "vestimenta = set(ropa)\n",
    "print(vestimenta)\n",
    "print(type(vestimenta))\n",
    "\n",
    "# se puede condicionar para verificar informacion\n",
    "encontrar = 'medias'in ropa\n",
    "print(encontrar)\n",
    "\n",
    "#existen varias funcionalidades para darle ala variable ropa desp[ues del punto y tabulacion\n",
    "#en este caso se agregara al final una prenda mas\n",
    "ropa.insert(len(ropa), \"camiseta\")\n",
    "print(ropa)\n",
    "\n",
    "#para saber cual es el lugar donde se encuentra el valor especificadolos valores\n",
    "print(ropa.index('gorra'))\n"
   ]
  },
  {
   "cell_type": "markdown",
   "metadata": {},
   "source": [
    "# Tuplas\n",
    "Que serian un tipo de listas que no cambian su valor, como veremos en el ejemplo:"
   ]
  },
  {
   "cell_type": "code",
   "execution_count": 52,
   "metadata": {},
   "outputs": [
    {
     "name": "stdout",
     "output_type": "stream",
     "text": [
      "[3, 6, 9, 12, 15]\n",
      "[2, 6, 9, 12, 15]\n",
      "{3, 6, 9, 12, 15}\n"
     ]
    },
    {
     "ename": "TypeError",
     "evalue": "'set' object does not support item assignment",
     "output_type": "error",
     "traceback": [
      "\u001b[1;31m---------------------------------------------------------------------------\u001b[0m",
      "\u001b[1;31mTypeError\u001b[0m                                 Traceback (most recent call last)",
      "\u001b[1;32m<ipython-input-52-786f87433f61>\u001b[0m in \u001b[0;36m<module>\u001b[1;34m\u001b[0m\n\u001b[0;32m     10\u001b[0m \u001b[0mtupla_correcta\u001b[0m \u001b[1;33m=\u001b[0m \u001b[1;33m{\u001b[0m\u001b[1;36m3\u001b[0m\u001b[1;33m,\u001b[0m\u001b[1;36m6\u001b[0m\u001b[1;33m,\u001b[0m\u001b[1;36m9\u001b[0m\u001b[1;33m,\u001b[0m\u001b[1;36m12\u001b[0m\u001b[1;33m,\u001b[0m\u001b[1;36m15\u001b[0m\u001b[1;33m}\u001b[0m\u001b[1;33m\u001b[0m\u001b[1;33m\u001b[0m\u001b[0m\n\u001b[0;32m     11\u001b[0m \u001b[0mprint\u001b[0m\u001b[1;33m(\u001b[0m\u001b[0mtupla_correcta\u001b[0m\u001b[1;33m)\u001b[0m\u001b[1;33m\u001b[0m\u001b[1;33m\u001b[0m\u001b[0m\n\u001b[1;32m---> 12\u001b[1;33m \u001b[0mtupla_correcta\u001b[0m\u001b[1;33m[\u001b[0m\u001b[1;36m0\u001b[0m\u001b[1;33m]\u001b[0m \u001b[1;33m=\u001b[0m \u001b[1;36m2\u001b[0m\u001b[1;33m\u001b[0m\u001b[1;33m\u001b[0m\u001b[0m\n\u001b[0m\u001b[0;32m     13\u001b[0m \u001b[1;33m\u001b[0m\u001b[0m\n",
      "\u001b[1;31mTypeError\u001b[0m: 'set' object does not support item assignment"
     ]
    }
   ],
   "source": [
    "#Por lo tanto una tubla se deberia hacer como una lista pero veremos que pasa\n",
    "tupla = [3,6,9,12,15]\n",
    "print(tupla) # por el momento aparenta se una tupla\n",
    "\n",
    "#Pero que sucederia si intento cambiar el valor\n",
    "tupla[0] = 2\n",
    "print(tupla) # no funciono cambio su valor\n",
    "\n",
    "#Intentemos otra forma\n",
    "tupla_correcta = {3,6,9,12,15}\n",
    "print(tupla_correcta) \n",
    "tupla_correcta[0] = 2 \n",
    "#Para que una tupla funcion ea pesar de ser una lista debe ser realizada entre corchetes y no en parentesis asi,\n",
    "#Si alguien intentacambiarla nos arrojara un error\n"
   ]
  },
  {
   "cell_type": "markdown",
   "metadata": {},
   "source": [
    "# Diccionario \n",
    "Un diccionario permite\n",
    "identificar a sus elementos a través de una clave. La siguiente imagen muestra un\n",
    "ejemplo típico de uso.\n"
   ]
  },
  {
   "cell_type": "code",
   "execution_count": 63,
   "metadata": {},
   "outputs": [
    {
     "name": "stdout",
     "output_type": "stream",
     "text": [
      "Christian\n",
      "23\n",
      "['Phyton', 'Java', 'php', 'Angular', 'C++']\n",
      "Phyton\n",
      "nombre : Christian\n",
      "edad : 23\n",
      "cursos : ['Phyton', 'Java', 'php', 'Angular', 'C++']\n"
     ]
    }
   ],
   "source": [
    "diccionario = {'nombre':'Christian', 'edad':23, 'cursos':['Phyton','Java','php','Angular','C++']}\n",
    "\n",
    "# Para acceder alos valores\n",
    "print(diccionario['nombre'])\n",
    "print(diccionario['edad'])\n",
    "print(diccionario['cursos'])\n",
    "\n",
    "#Para recorrer carios valores de tipo lista\n",
    "print(diccionario['cursos'][0])\n",
    "\n",
    "# si desea correr todo el diccionario\n",
    "\n",
    "for key in diccionario:\n",
    "    \n",
    "    print(key, \":\", diccionario[key])\n",
    "\n",
    "    "
   ]
  },
  {
   "cell_type": "markdown",
   "metadata": {},
   "source": [
    "# Nota importante en Phyton\n",
    "Debido a que phuton no usa ni **{}** ni **()** para inicio y dinales de instrucciones, por eso es importante respetar espacios y orden  para evitar errores.\n",
    "\n",
    "Ejercicio siple para identificar numeros pares"
   ]
  },
  {
   "cell_type": "code",
   "execution_count": 67,
   "metadata": {},
   "outputs": [
    {
     "name": "stdout",
     "output_type": "stream",
     "text": [
      "Este número es no par\n"
     ]
    }
   ],
   "source": [
    "numero = 25\n",
    "\n",
    "if (numero % 2 == 0):\n",
    "    print(\"Este número es par\")\n",
    "else:\n",
    "    print(\"Este número es no par\")\n",
    "\n"
   ]
  },
  {
   "cell_type": "markdown",
   "metadata": {},
   "source": [
    "**Ejercicio de bucle 1:**"
   ]
  },
  {
   "cell_type": "code",
   "execution_count": 73,
   "metadata": {},
   "outputs": [
    {
     "name": "stdout",
     "output_type": "stream",
     "text": [
      "número de iteración 0\n",
      "número de iteración 1\n",
      "número de iteración 2\n",
      "número de iteración 3\n",
      "número de iteración 4\n"
     ]
    }
   ],
   "source": [
    "for valor in range(5):\n",
    "    print(\"número de iteración \" + str(valor))"
   ]
  },
  {
   "cell_type": "markdown",
   "metadata": {},
   "source": [
    "**Bucle 2:**"
   ]
  },
  {
   "cell_type": "code",
   "execution_count": 74,
   "metadata": {},
   "outputs": [
    {
     "name": "stdout",
     "output_type": "stream",
     "text": [
      "número de iteración 0\n",
      "número de iteración 1\n",
      "número de iteración 2\n",
      "número de iteración 3\n",
      "número de iteración 4\n"
     ]
    }
   ],
   "source": [
    "valor = 0\n",
    "while (valor < 5):\n",
    "    print(\"número de iteración \" + str(valor))\n",
    "    valor = valor +1"
   ]
  },
  {
   "cell_type": "markdown",
   "metadata": {},
   "source": [
    "**Función para determinar si un numero es  o no par**"
   ]
  },
  {
   "cell_type": "code",
   "execution_count": 77,
   "metadata": {},
   "outputs": [
    {
     "name": "stdout",
     "output_type": "stream",
     "text": [
      "el número  12 es par\n",
      "el número  13 no es par\n"
     ]
    }
   ],
   "source": [
    "def es_par(numero):\n",
    "    if(numero % 2 == 0):\n",
    "        print(\"el número  \" + str(numero) + \" es par\")\n",
    "        \n",
    "    else:\n",
    "        print(\"el número  \" + str(numero) + \" no es par\")\n",
    "\n",
    "# Asi se llama a la fución\n",
    "es_par(12)\n",
    "es_par(13)\n",
    "    "
   ]
  },
  {
   "cell_type": "markdown",
   "metadata": {},
   "source": [
    "**Función para cambiar si un numero es par lo multiplica, si es impar lo suma**"
   ]
  },
  {
   "cell_type": "code",
   "execution_count": 87,
   "metadata": {},
   "outputs": [
    {
     "name": "stdout",
     "output_type": "stream",
     "text": [
      "20 -----13\n"
     ]
    }
   ],
   "source": [
    "def cambia_numero(numero):\n",
    "    if(numero % 2 == 0):\n",
    "        return(numero * 2)\n",
    "        \n",
    "    else:\n",
    "        return(numero + 2)\n",
    "\n",
    "# Asi se llama a la fución\n",
    "prueba1 = cambia_numero(10)\n",
    "prueba2 = cambia_numero(11)\n",
    "\n",
    "print(str(prueba1) + \" -----\" + str(prueba2))\n"
   ]
  },
  {
   "cell_type": "markdown",
   "metadata": {},
   "source": [
    "**Función para cambiar si un numero es par lo multiplica, si es impar lo suma, con numero entrante adelante**"
   ]
  },
  {
   "cell_type": "code",
   "execution_count": 90,
   "metadata": {},
   "outputs": [
    {
     "name": "stdout",
     "output_type": "stream",
     "text": [
      "13_15-----14_28\n"
     ]
    }
   ],
   "source": [
    "def cambia_numero(numero):\n",
    "    if(numero % 2 == 0):\n",
    "        return(numero, numero * 2)\n",
    "        \n",
    "    else:\n",
    "        return(numero, numero + 2)\n",
    "\n",
    "# Asi se llama a la fución\n",
    "numero1, prueba1 = cambia_numero(13)\n",
    "numero2, prueba2 = cambia_numero(14)\n",
    "\n",
    "print(str(numero1) + \"_\" + str(prueba1) + \"-----\" + str(numero2) + \"_\" + str(prueba2))"
   ]
  },
  {
   "cell_type": "markdown",
   "metadata": {},
   "source": [
    "# Objetos en Python\n",
    "\n",
    "la programación orientada a objetos, una clase permite\n",
    "encapsular de forma conjunta atributos (datos) y métodos (acciones). Cuando una\n",
    "clase se instancia, da lugar a un objeto. Por ejemplo y dada la clase «coche», podemos\n",
    "crear a partir de ella una instancia objeto que sea un modelo de coche determinado\n",
    "con una matrícula concreta.\n",
    "\n",
    "Ejemplo típico de cómo crear un objeto en Python:"
   ]
  },
  {
   "cell_type": "code",
   "execution_count": null,
   "metadata": {},
   "outputs": [],
   "source": [
    "class Rectangulo:\n",
    "    def _init_(self,x,y):\n",
    "        self.x = x\n",
    "        self.y = y\n",
    "        \n",
    "    descripcion = \"Esto es un rectangulo\"\n",
    "    autor = \"incognito\"\n",
    "    \n",
    "    def area(self):\n",
    "        return self.x * self.y\n",
    "    def perimetro(self):\n",
    "        return 2 * self.x + 2 * self.y\n",
    "    def descripcion(self,text):\n",
    "        self.description = text\n",
    "    def nombreAutor(self,text):\n",
    "        self.author = text\n",
    "    def cambiarDimensiones(self,scale):\n",
    "        self.x = self.x * scale\n",
    "        self.y = self.y * scale\n",
    "        \n",
    "rectangulo1 = Rectangulo(90, 35)\n",
    "rectangulo2 = Rectangulo(20, 11)\n",
    "\n",
    "rectangulo1.descripcion(\"Rectangulo de jugete\")\n",
    "\n",
    "print(rectangulo1.descripcion)\n",
    "print(rectangulo2.area())\n"
   ]
  },
  {
   "cell_type": "markdown",
   "metadata": {},
   "source": [
    "**Gráfico simple**"
   ]
  },
  {
   "cell_type": "code",
   "execution_count": 106,
   "metadata": {},
   "outputs": [
    {
     "data": {
      "image/png": "[encoded data removed]",
      "text/plain": [
       "<Figure size 432x288 with 1 Axes>"
      ]
     },
     "metadata": {
      "needs_background": "light"
     },
     "output_type": "display_data"
    }
   ],
   "source": [
    "import numpy as np\n",
    "import matplotlib.pyplot as plt\n",
    "\n",
    "N_points = 100\n",
    "x = np.random.randn(N_points)\n",
    "y =.4 * x\n",
    "plt.plot(x,y)\n",
    "plt.grid()"
   ]
  },
  {
   "cell_type": "markdown",
   "metadata": {},
   "source": [
    "**Gráfico mas complejo**"
   ]
  },
  {
   "cell_type": "code",
   "execution_count": 109,
   "metadata": {},
   "outputs": [
    {
     "data": {
      "image/png": "[encoded data removed]",
      "text/plain": [
       "<Figure size 432x288 with 1 Axes>"
      ]
     },
     "metadata": {
      "needs_background": "light"
     },
     "output_type": "display_data"
    }
   ],
   "source": [
    "import numpy as np\n",
    "import matplotlib.pyplot as plt\n",
    "\n",
    "np.random.seed(1234)\n",
    "\n",
    "mu = 100 \n",
    "sigma = 15\n",
    "x = mu + sigma * np.random.randn(437)\n",
    "\n",
    "num_bins = 50\n",
    "\n",
    "fig, ax = plt.subplots()\n",
    "\n",
    "n, bins, patches = ax.hist(x, num_bins, density = 1)  \n",
    "y = ((1 / (np.sqrt(2 *np.pi) * sigma )) *\n",
    "     np.exp(-0.5 * (1 / sigma * (bins - mu))**2))\n",
    "\n",
    "ax.plot(bins, y, '--')\n",
    "ax.set_xlabel('valores x')\n",
    "ax.set_ylabel('Función de densidad')\n",
    "ax.set_title(r'histograma: $\\mu=100$, $\\sigma=15$')\n",
    "\n",
    "fig.tight_layout()\n",
    "plt.show()\n",
    "              \n",
    "              "
   ]
  },
  {
   "cell_type": "code",
   "execution_count": null,
   "metadata": {},
   "outputs": [],
   "source": []
  }
 ],
 "metadata": {
  "kernelspec": {
   "display_name": "Python 3",
   "language": "python",
   "name": "python3"
  },
  "language_info": {
   "codemirror_mode": {
    "name": "ipython",
    "version": 3
   },
   "file_extension": ".py",
   "mimetype": "text/x-python",
   "name": "python",
   "nbconvert_exporter": "python",
   "pygments_lexer": "ipython3",
   "version": "3.7.6"
  }
 },
 "nbformat": 4,
 "nbformat_minor": 4
}
