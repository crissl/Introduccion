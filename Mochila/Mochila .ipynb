{
 "cells": [
  {
   "cell_type": "code",
   "execution_count": 2,
   "metadata": {},
   "outputs": [
    {
     "data": {
      "text/plain": [
       "[('Paquete 1', 9, 150),\n",
       " ('Paquete 2', 9, 160),\n",
       " ('Paquete 4', 50, 160),\n",
       " ('Paquete 5', 15, 60),\n",
       " ('Paquete 6', 66, 45),\n",
       " ('Paquete 7', 27, 60),\n",
       " ('Paquete 8', 39, 40)]"
      ]
     },
     "execution_count": 2,
     "metadata": {},
     "output_type": "execute_result"
    }
   ],
   "source": [
    "from itertools import takewhile\n",
    "from operator import itemgetter\n",
    "\n",
    "#Paquetes: \"Nombre del paquete\", Kilos, Precio\n",
    "PAQUETES = (\n",
    "    (\"Paquete 1\", 9, 150), (\"Paquete 2\", 9, 160), (\"Paquete 3\", 153, 200), (\"Paquete 4\", 50, 160),\n",
    "    (\"Paquete 5\", 15, 60), (\"Paquete 6\", 66, 45), (\"Paquete 7\", 27, 60), (\"Paquete 8\", 39, 40),\n",
    "    (\"Paquete 9\", 230, 591), (\"Paquete 10\", 520, 10), (\"Paquete 11\", 110, 70), (\"Paquete 12\", 32, 30))\n",
    "\n",
    "#carga máxima del camión\n",
    "PESOMAXIMO = 230\n",
    "\n",
    "# Útiles para acceso al peso y valores (irían mejor definiendo una clase)\n",
    "get_peso = itemgetter(1)\n",
    "get_valor = itemgetter(2)\n",
    "\n",
    "def total_peso(paquetes):\n",
    "    return sum(get_peso(x) for x in paquetes)\n",
    "\n",
    "def total_valor(paquetes):\n",
    "    return sum(get_valor(x) for x in paquetes)\n",
    "\n",
    "# Obtención de todas las combinaciones posibles\n",
    "# Función recursiva\n",
    "def combinaciones(paquetes, peso_maximo):\n",
    "    paqs = [ p for p in paquetes if get_peso(p) <= peso_maximo ]\n",
    "    resultado = []\n",
    "    for p in paqs:\n",
    "        res = combinaciones([x for x in paqs if x!=p], peso_maximo - get_peso(p))\n",
    "        if len(res) == 0:\n",
    "            resultado.append([p])\n",
    "        else:\n",
    "            resultado.extend([[p]+x for x in res])\n",
    "    return resultado\n",
    "\n",
    "# solución\n",
    "max(combinaciones(PAQUETES, PESOMAXIMO), key=total_valor)"
   ]
  },
  {
   "cell_type": "code",
   "execution_count": null,
   "metadata": {
    "collapsed": true
   },
   "outputs": [],
   "source": []
  }
 ],
 "metadata": {
  "kernelspec": {
   "display_name": "Python 3",
   "language": "python",
   "name": "python3"
  },
  "language_info": {
   "codemirror_mode": {
    "name": "ipython",
    "version": 3
   },
   "file_extension": ".py",
   "mimetype": "text/x-python",
   "name": "python",
   "nbconvert_exporter": "python",
   "pygments_lexer": "ipython3",
   "version": "3.7.6"
  }
 },
 "nbformat": 4,
 "nbformat_minor": 4
}
