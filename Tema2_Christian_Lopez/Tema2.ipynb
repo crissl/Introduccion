{
 "cells": [
  {
   "cell_type": "markdown",
   "metadata": {},
   "source": [
    "#  NumPy\n",
    "NumPy es una librería diseñada para el cálculo científico y las operaciones\n",
    "matemáticas con estructuras de datos matriciales. Guarda algunas semejanzas con\n",
    "software de parecidos propósitos como MATLAB. Al igual que se hizo en el tema\n",
    "anterior, ilustraremos el uso de esta librería con ejemplos varios."
   ]
  },
  {
   "cell_type": "code",
   "execution_count": 1,
   "metadata": {},
   "outputs": [
    {
     "name": "stdout",
     "output_type": "stream",
     "text": [
      "numpy_version: 1.18.1\n"
     ]
    }
   ],
   "source": [
    "import numpy as np\n",
    "print ('numpy_version:', np.__version__)"
   ]
  },
  {
   "cell_type": "markdown",
   "metadata": {},
   "source": [
    "NumPy es una librería diseñada para trabajar con vectores multidimensionales. Los\n",
    "valores almacenados en la estructura de datos deben ser todos del mismo tipo. Las\n",
    "dimensiones de la estructura de datos reciben el nombre de “axes”. Funciones útiles\n",
    "para probar esta librería son:"
   ]
  },
  {
   "cell_type": "markdown",
   "metadata": {},
   "source": [
    "* ndarray.ndim – número de dimensiones de la estructura vectorial.\n",
    "* ndarray.shape – muestra las dimensiones del vector.\n",
    "* ndarray.size – devuelve el número total de elementos.\n",
    "* ndarray.dtype – devuelve el tipo de los valores contenidos en el vector.\n",
    "* ndarray.itemsize – devuelve el tamaño en bytes de los elementos del vector\n",
    "\n",
    "teniendo en cuenta su tipo."
   ]
  },
  {
   "cell_type": "code",
   "execution_count": 6,
   "metadata": {},
   "outputs": [
    {
     "name": "stdout",
     "output_type": "stream",
     "text": [
      "Filas:003; Columnas:003\n",
      "[[ 0  1  2  3]\n",
      " [ 4  5  6  7]\n",
      " [ 8  9 10 11]]\n"
     ]
    }
   ],
   "source": [
    "import numpy as np\n",
    "\n",
    "a = np.array([[0,1,2,3],[4,5,6,7],[8,9,10,11]])\n",
    "Filas, Columnas = np.shape(a)\n",
    "print('Filas:{0:03d}; Columnas:{0:03d}'.format(Filas, Columnas))# aqui imprimiremos el numero de filas y columnas\n",
    "print(a)"
   ]
  },
  {
   "cell_type": "code",
   "execution_count": null,
   "metadata": {},
   "outputs": [],
   "source": [
    "Podemos contemplar una gran variedad de tipos en los elementos del vector, incluso\n",
    "valores complejos.\n"
   ]
  },
  {
   "cell_type": "code",
   "execution_count": 9,
   "metadata": {},
   "outputs": [
    {
     "name": "stdout",
     "output_type": "stream",
     "text": [
      "[[2.+0.j 3.+0.j]\n",
      " [6.+0.j 7.+0.j]]\n"
     ]
    }
   ],
   "source": [
    "import numpy as np\n",
    "\n",
    "b = np.array([[2,3],[6,7]], dtype = np.complex64)\n",
    "print (b)"
   ]
  },
  {
   "cell_type": "markdown",
   "metadata": {},
   "source": [
    "En ocasiones es de especial utilidad inicializar vectores de unas dimensiones\n",
    "concretas a un valor que puede ser una constante como 0 o 1, o números aleatorios."
   ]
  },
  {
   "cell_type": "code",
   "execution_count": 12,
   "metadata": {},
   "outputs": [
    {
     "data": {
      "text/plain": [
       "array([[0., 0., 0., 0.],\n",
       "       [0., 0., 0., 0.],\n",
       "       [0., 0., 0., 0.]])"
      ]
     },
     "execution_count": 12,
     "metadata": {},
     "output_type": "execute_result"
    }
   ],
   "source": [
    "import numpy as np\n",
    "\n",
    "np.zeros((3,4))\n",
    "\n"
   ]
  },
  {
   "cell_type": "markdown",
   "metadata": {},
   "source": [
    "La figura siguiente muestra ejemplos de otras funciones, se copia tipos y dimensiones\n",
    "en el primer caso, valores vacíos en el segundo caso (y se muestran los valores que\n",
    "existan en la memoria en ese momento) y, por último, una matriz con unos en la\n",
    "diagonal principal y ceros en el resto."
   ]
  },
  {
   "cell_type": "code",
   "execution_count": 13,
   "metadata": {},
   "outputs": [
    {
     "data": {
      "text/plain": [
       "array([[0.+0.j, 0.+0.j],\n",
       "       [0.+0.j, 0.+0.j]], dtype=complex64)"
      ]
     },
     "execution_count": 13,
     "metadata": {},
     "output_type": "execute_result"
    }
   ],
   "source": [
    "import numpy as np\n",
    "\n",
    "np.zeros_like(b)\n"
   ]
  },
  {
   "cell_type": "code",
   "execution_count": 15,
   "metadata": {},
   "outputs": [
    {
     "data": {
      "text/plain": [
       "array([[2.12199579e-314, 6.36598737e-314, 1.06099790e-313],\n",
       "       [1.48539705e-313, 1.90979621e-313, 2.33419537e-313]])"
      ]
     },
     "execution_count": 15,
     "metadata": {},
     "output_type": "execute_result"
    }
   ],
   "source": [
    "import numpy as np\n",
    "\n",
    "np.empty((2, 3))"
   ]
  },
  {
   "cell_type": "code",
   "execution_count": 16,
   "metadata": {},
   "outputs": [
    {
     "data": {
      "text/plain": [
       "array([[1., 0., 0.],\n",
       "       [0., 1., 0.],\n",
       "       [0., 0., 1.]])"
      ]
     },
     "execution_count": 16,
     "metadata": {},
     "output_type": "execute_result"
    }
   ],
   "source": [
    "import numpy as np\n",
    "\n",
    "np.eye(3)"
   ]
  },
  {
   "cell_type": "markdown",
   "metadata": {},
   "source": [
    "Prueba ahora a ejecutar en tu equipo el siguiente código e intenta determinar\n",
    "la función de cada uno:"
   ]
  },
  {
   "cell_type": "code",
   "execution_count": 17,
   "metadata": {},
   "outputs": [
    {
     "data": {
      "text/plain": [
       "array([[0, 0, 0, 0, 0],\n",
       "       [0, 1, 0, 0, 0],\n",
       "       [0, 0, 2, 0, 0],\n",
       "       [0, 0, 0, 3, 0],\n",
       "       [0, 0, 0, 0, 4]])"
      ]
     },
     "execution_count": 17,
     "metadata": {},
     "output_type": "execute_result"
    }
   ],
   "source": [
    "import numpy as np\n",
    "\n",
    "np.diag(np.arange(5))#imprimira de manera diagonal segun el rango"
   ]
  },
  {
   "cell_type": "code",
   "execution_count": 18,
   "metadata": {},
   "outputs": [
    {
     "data": {
      "text/plain": [
       "array([0, 1, 2, 3, 4])"
      ]
     },
     "execution_count": 18,
     "metadata": {},
     "output_type": "execute_result"
    }
   ],
   "source": [
    "import numpy as np\n",
    "\n",
    "np.arange(5)# imprime el rango pero solo ina fila"
   ]
  },
  {
   "cell_type": "code",
   "execution_count": 23,
   "metadata": {},
   "outputs": [
    {
     "data": {
      "text/plain": [
       "array([[6, 7, 6, 7],\n",
       "       [8, 9, 8, 9],\n",
       "       [6, 7, 6, 7],\n",
       "       [8, 9, 8, 9]])"
      ]
     },
     "execution_count": 23,
     "metadata": {},
     "output_type": "execute_result"
    }
   ],
   "source": [
    "import numpy as np\n",
    "\n",
    "np.tile(np.array([[6, 7],[8, 9]]), (2, 2))"
   ]
  },
  {
   "cell_type": "markdown",
   "metadata": {},
   "source": [
    "np.arange() es una función habitual para crear secuencias numéricas. reshape() es\n",
    "útil para ajustar las dimensiones de la estructura. La siguiente imagen muestra un\n",
    "ejemplo:"
   ]
  },
  {
   "cell_type": "code",
   "execution_count": 25,
   "metadata": {},
   "outputs": [
    {
     "name": "stdout",
     "output_type": "stream",
     "text": [
      "[[0 1]\n",
      " [2 3]]\n"
     ]
    }
   ],
   "source": [
    "import numpy as np\n",
    "\n",
    "x = np.arange(4).reshape(2,2)\n",
    "print(x)"
   ]
  },
  {
   "cell_type": "markdown",
   "metadata": {},
   "source": [
    "No es necesario especificar los valores del vector uno a uno, también es posible\n",
    "recurrir a generadores como el siguiente."
   ]
  },
  {
   "cell_type": "code",
   "execution_count": 27,
   "metadata": {},
   "outputs": [
    {
     "name": "stdout",
     "output_type": "stream",
     "text": [
      "[[ 0  1  2]\n",
      " [10 11 12]\n",
      " [20 21 22]\n",
      " [30 31 32]]\n"
     ]
    }
   ],
   "source": [
    "# Generar una matriz\n",
    "c = np.array([[10*j+i for i in range(3)] for j in range(4)])\n",
    "print(c)"
   ]
  },
  {
   "cell_type": "markdown",
   "metadata": {},
   "source": [
    "Para añadir una nueva dimensión o convertir un vector fila en columna, utilizamos\n",
    "las siguientes funciones:"
   ]
  },
  {
   "cell_type": "code",
   "execution_count": 30,
   "metadata": {},
   "outputs": [
    {
     "name": "stdout",
     "output_type": "stream",
     "text": [
      "[ 0.  3.  6.  9. 12.]\n",
      "[[ 0.]\n",
      " [ 3.]\n",
      " [ 6.]\n",
      " [ 9.]\n",
      " [12.]]\n"
     ]
    }
   ],
   "source": [
    "#genera 5 puntos equiespaciados en tre 0 y 12\n",
    "d = np.linspace(0, 12, 5)\n",
    "print(d)\n",
    "print(d[:, np.newaxis])"
   ]
  },
  {
   "cell_type": "markdown",
   "metadata": {},
   "source": [
    "**MATLAB** ha sido uno de los lenguajes de referencia para el cálculo matricial. La\n",
    "función de grid de MATLAB activa líneas de cuadrícula genérico en 2-D cuando se\n",
    "pretende dibujar una zona del espacio. Con la función meshgrid de MATLAB el usuario\n",
    "determina completamente las líneas de cuadrícula horizontales y verticales que\n",
    "aparecen en una gráfica. En Python, esta función encuentra su equivalente con el\n",
    "ejemplo de debajo:\n",
    "\n"
   ]
  },
  {
   "cell_type": "code",
   "execution_count": 4,
   "metadata": {},
   "outputs": [
    {
     "name": "stdout",
     "output_type": "stream",
     "text": [
      "[[0 0 0 0 0]\n",
      " [1 1 1 1 1]\n",
      " [2 2 2 2 2]\n",
      " [3 3 3 3 3]\n",
      " [4 4 4 4 4]]\n",
      "--------\n",
      "[[0 1 2 3 4]\n",
      " [0 1 2 3 4]\n",
      " [0 1 2 3 4]\n",
      " [0 1 2 3 4]\n",
      " [0 1 2 3 4]]\n"
     ]
    }
   ],
   "source": [
    "import numpy as np\n",
    "\n",
    "x, y = np.mgrid[0:5, 0:5]\n",
    "print(x)\n",
    "print(\"--------\")\n",
    "print(y)\n"
   ]
  },
  {
   "cell_type": "markdown",
   "metadata": {},
   "source": [
    "En diversas situaciones, se generan matrices de dimensión considerable donde la\n",
    "mayor parte de los valores son cero. Almacenar dicha información según los\n",
    "procedimientos habituales sería ineficiente debido a que almacenaría un gran\n",
    "número de nulos (la inmensa mayoría). Por ello surgen estructuras de datos\n",
    "particulares para este caso."
   ]
  },
  {
   "cell_type": "code",
   "execution_count": 37,
   "metadata": {},
   "outputs": [
    {
     "name": "stdout",
     "output_type": "stream",
     "text": [
      "[[0.         0.         0.         0.         0.90015968 0.        ]\n",
      " [0.         0.95966101 0.         0.         0.         0.        ]\n",
      " [0.92649017 0.         0.         0.         0.         0.94154629]\n",
      " [0.         0.         0.         0.         0.         0.        ]\n",
      " [0.         0.         0.         0.         0.         0.90897516]]\n",
      "  (0, 4)\t0.9001596834826076\n",
      "  (1, 1)\t0.9596610139968158\n",
      "  (2, 0)\t0.9264901712574322\n",
      "  (2, 5)\t0.9415462944696401\n",
      "  (4, 5)\t0.9089751574841473\n"
     ]
    }
   ],
   "source": [
    "\n",
    "from scipy import sparse\n",
    "X = np.random.random((5, 6))\n",
    "X[X < 0.85] = 0\n",
    "print (X)\n",
    "X_csr = sparse.csr_matrix(X)\n",
    "print (X_csr)\n"
   ]
  },
  {
   "cell_type": "code",
   "execution_count": 35,
   "metadata": {},
   "outputs": [
    {
     "name": "stdout",
     "output_type": "stream",
     "text": [
      "[[0.         0.         0.         0.86433735 0.         0.        ]\n",
      " [0.97981194 0.         0.         0.         0.         0.        ]\n",
      " [0.         0.         0.         0.         0.         0.        ]\n",
      " [0.         0.         0.         0.         0.         0.95962266]\n",
      " [0.         0.         0.         0.         0.         0.        ]]\n"
     ]
    }
   ],
   "source": [
    "print(x_csr.toarray())"
   ]
  },
  {
   "cell_type": "markdown",
   "metadata": {},
   "source": [
    "# Inicialización de matrices con números aleatorios.\n",
    "NumPy permite la generación de números aleatorios en base a una semilla\n",
    "previamente especificada. Aunque no es obligatorio, fijar de forma previa la semilla\n",
    "es útil para conseguir la replicabilidad de los resultados."
   ]
  },
  {
   "cell_type": "code",
   "execution_count": 11,
   "metadata": {},
   "outputs": [
    {
     "data": {
      "text/plain": [
       "array([[0.92961609, 0.31637555, 0.18391881, 0.20456028, 0.56772503],\n",
       "       [0.5955447 , 0.96451452, 0.6531771 , 0.74890664, 0.65356987],\n",
       "       [0.74771481, 0.96130674, 0.0083883 , 0.10644438, 0.29870371],\n",
       "       [0.65641118, 0.80981255, 0.87217591, 0.9646476 , 0.72368535]])"
      ]
     },
     "execution_count": 11,
     "metadata": {},
     "output_type": "execute_result"
    }
   ],
   "source": [
    "np.random.seed(12345)\n",
    "np.random.rand(4,5)"
   ]
  },
  {
   "cell_type": "code",
   "execution_count": 12,
   "metadata": {},
   "outputs": [
    {
     "data": {
      "text/plain": [
       "array([[ 1.35291684e+00,  8.86429341e-01, -2.00163731e+00,\n",
       "        -3.71842537e-01,  1.66902531e+00],\n",
       "       [-4.38569736e-01, -5.39741446e-01,  4.76985010e-01,\n",
       "         3.24894392e+00, -1.02122752e+00],\n",
       "       [-5.77087303e-01,  1.24121276e-01,  3.02613562e-01,\n",
       "         5.23772068e-01,  9.40277775e-04],\n",
       "       [ 1.34380979e+00, -7.13543985e-01, -8.31153539e-01,\n",
       "        -2.37023165e+00, -1.86076079e+00]])"
      ]
     },
     "execution_count": 12,
     "metadata": {},
     "output_type": "execute_result"
    }
   ],
   "source": [
    "np.random.randn(4,5)"
   ]
  },
  {
   "cell_type": "markdown",
   "metadata": {},
   "source": [
    "En otras ocasiones, es útil realizar ciertas transformaciones de tipos, pasar de decimal\n",
    "en coma flotante a entero, de entero a carácter, etc. También podemos necesitar\n",
    "redondear un número.\n",
    "\n",
    "# Cambio de tipos y redondeo."
   ]
  },
  {
   "cell_type": "code",
   "execution_count": 14,
   "metadata": {},
   "outputs": [
    {
     "data": {
      "text/plain": [
       "array([1, 1, 1])"
      ]
     },
     "execution_count": 14,
     "metadata": {},
     "output_type": "execute_result"
    }
   ],
   "source": [
    "a = np.array([1.7, 1.2, 1.6])\n",
    "b = a.astype(int)\n",
    "b"
   ]
  },
  {
   "cell_type": "code",
   "execution_count": 17,
   "metadata": {},
   "outputs": [
    {
     "name": "stdout",
     "output_type": "stream",
     "text": [
      "[1. 2. 2. 2. 4. 4.]\n",
      "[1 2 2 2 4 4]\n"
     ]
    }
   ],
   "source": [
    "a = np.array([1.2, 1.5, 1.6, 2.5, 3.5, 4.5])\n",
    "b = np.around(a)\n",
    "print (b)\n",
    "c = np.around(a).astype(int)\n",
    "print (c)"
   ]
  },
  {
   "cell_type": "markdown",
   "metadata": {},
   "source": [
    "Es interesante que trabajes con la conversión de tipos de carácter a numérico y\n",
    "viceversa.\n",
    "\n",
    "El término «broadcasting» describe la forma en la que NumPy trata a los vectores de\n",
    "diferentes dimensiones durante la ejecución de ciertas operaciones. En términos\n",
    "generales, el vector de menor dimensión es distribuido sobre el largo para conseguir\n",
    "dimensiones compatibles. Esto evita la creación de copias de los datos y favorece la\n",
    "creación de programas más eficientes. No obstante, es una técnica que requiere\n",
    "emplearse con cuidado ya que a veces puede ser perjudicial su uso, como ante ciertas\n",
    "operaciones binarias de funcionamiento particular previamente definidas por el\n",
    "usuario.\n",
    "## Broadcasting in Python."
   ]
  },
  {
   "cell_type": "code",
   "execution_count": 19,
   "metadata": {},
   "outputs": [
    {
     "data": {
      "text/plain": [
       "array([2., 4., 6.])"
      ]
     },
     "execution_count": 19,
     "metadata": {},
     "output_type": "execute_result"
    }
   ],
   "source": [
    "from numpy import array\n",
    "a = array([1.0, 2.0, 3.0])\n",
    "b = array([2.0, 2.0, 2.0])\n",
    "a * b #multiplicar entre matrices "
   ]
  },
  {
   "cell_type": "code",
   "execution_count": 20,
   "metadata": {},
   "outputs": [
    {
     "data": {
      "text/plain": [
       "array([[ 1.,  2.,  3.],\n",
       "       [11., 12., 13.],\n",
       "       [21., 22., 23.],\n",
       "       [31., 32., 33.]])"
      ]
     },
     "execution_count": 20,
     "metadata": {},
     "output_type": "execute_result"
    }
   ],
   "source": [
    "from numpy import array\n",
    "a = array([[ 0.0, 0.0, 0.0],\n",
    "           [10.0,10.0,10.0],\n",
    "           [20.0,20.0,20.0],\n",
    "           [30.0,30.0,30.0]])\n",
    "\n",
    "b = array([1.0, 2.0, 3.0])\n",
    "\n",
    "a + b # suma de matrices \n",
    "\n"
   ]
  },
  {
   "cell_type": "markdown",
   "metadata": {},
   "source": [
    "Las operaciones del álgebra lineal básica se realizan de forma muy sencilla con\n",
    "NumPy, pongamos algunos ejemplos."
   ]
  },
  {
   "cell_type": "code",
   "execution_count": 21,
   "metadata": {},
   "outputs": [
    {
     "name": "stdout",
     "output_type": "stream",
     "text": [
      "[[0.         0.97981194 0.         0.         0.        ]\n",
      " [0.         0.         0.         0.         0.        ]\n",
      " [0.         0.         0.         0.         0.        ]\n",
      " [0.86433735 0.         0.         0.         0.        ]\n",
      " [0.         0.         0.         0.         0.        ]\n",
      " [0.         0.         0.         0.95962266 0.        ]]\n"
     ]
    }
   ],
   "source": [
    "print(x.T)"
   ]
  },
  {
   "cell_type": "code",
   "execution_count": 24,
   "metadata": {},
   "outputs": [
    {
     "name": "stdout",
     "output_type": "stream",
     "text": [
      "[[0.         0.         0.         4.32168677 0.         0.        ]\n",
      " [4.89905969 0.         0.         0.         0.         0.        ]\n",
      " [0.         0.         0.         0.         0.         0.        ]\n",
      " [0.         0.         0.         0.         0.         4.79811331]\n",
      " [0.         0.         0.         0.         0.         0.        ]]\n",
      "[[3.         3.         3.         3.86433735 3.         3.        ]\n",
      " [3.97981194 3.         3.         3.         3.         3.        ]\n",
      " [3.         3.         3.         3.         3.         3.        ]\n",
      " [3.         3.         3.         3.         3.         3.95962266]\n",
      " [3.         3.         3.         3.         3.         3.        ]]\n"
     ]
    }
   ],
   "source": [
    "print(x*5)\n",
    "print(x+3)"
   ]
  },
  {
   "cell_type": "code",
   "execution_count": null,
   "metadata": {},
   "outputs": [],
   "source": [
    "print (x*x.T)\n",
    "print (np.dot(x,x.T))"
   ]
  },
  {
   "cell_type": "markdown",
   "metadata": {},
   "source": [
    "Para el cálculo del determinante y de la matriz inversa hay que acudir a la librería\n",
    "SciPy.\n",
    "## Cálculo del determinante"
   ]
  },
  {
   "cell_type": "code",
   "execution_count": 40,
   "metadata": {},
   "outputs": [
    {
     "data": {
      "text/plain": [
       "-2.0"
      ]
     },
     "execution_count": 40,
     "metadata": {},
     "output_type": "execute_result"
    }
   ],
   "source": [
    "from scipy import linalg\n",
    "arr = np.array([[1,2],\n",
    "                [3,4]])\n",
    "linalg.det(arr)"
   ]
  },
  {
   "cell_type": "markdown",
   "metadata": {},
   "source": [
    "## Cálculo de matriz inversa"
   ]
  },
  {
   "cell_type": "code",
   "execution_count": 41,
   "metadata": {},
   "outputs": [
    {
     "name": "stdout",
     "output_type": "stream",
     "text": [
      "[[-2.   1. ]\n",
      " [ 1.5 -0.5]]\n"
     ]
    }
   ],
   "source": [
    "print (linalg.inv(arr))"
   ]
  },
  {
   "cell_type": "markdown",
   "metadata": {},
   "source": [
    "El acceso a los datos es bastante intuitivo en función de la indexación de los datos,\n",
    "veamos algunos ejemplos."
   ]
  },
  {
   "cell_type": "code",
   "execution_count": null,
   "metadata": {},
   "outputs": [],
   "source": [
    "#Accediendo a los datos.\n",
    "print(b[0, 0])\n",
    "print(b[-1, -1])\n",
    "print(b[:, -1])"
   ]
  },
  {
   "cell_type": "code",
   "execution_count": null,
   "metadata": {},
   "outputs": [],
   "source": [
    "Accediendo a los datos."
   ]
  },
  {
   "cell_type": "code",
   "execution_count": 49,
   "metadata": {},
   "outputs": [
    {
     "name": "stdout",
     "output_type": "stream",
     "text": [
      "[[ 0  1  2  3  4  5]\n",
      " [10 11 12 13 14 15]\n",
      " [20 21 22 23 24 25]\n",
      " [30 31 32 33 34 35]\n",
      " [40 41 42 43 44 45]\n",
      " [50 51 52 53 54 55]]\n",
      "----\n",
      "[40 41 42 43]\n",
      "------\n",
      "[ 2 12 22 32 42 52]\n",
      "------\n",
      "[[20 22 24]\n",
      " [40 42 44]]\n"
     ]
    }
   ],
   "source": [
    "a = np.array([[10*j+i for i in range(6)] for j in range(6)])\n",
    "\n",
    "print (a)\n",
    "print (\"----\")\n",
    "print (a[4,:4:])\n",
    "print (\"------\")\n",
    "print (a[:, 2])\n",
    "print (\"------\")\n",
    "print (a[2::2, ::2])\n"
   ]
  },
  {
   "cell_type": "markdown",
   "metadata": {},
   "source": [
    "A la hora de copiar una matriz con todos sus atributos, se puede ejecutar la siguiente\n",
    "instrucción:"
   ]
  },
  {
   "cell_type": "code",
   "execution_count": 50,
   "metadata": {},
   "outputs": [],
   "source": [
    "c = np.array(a, copy = True)"
   ]
  },
  {
   "cell_type": "markdown",
   "metadata": {},
   "source": [
    "Como ejercicio, puedes comprobar las diferencias existentes entre la sentencia\n",
    "anterior y una asignación simple del tipo c = a\n",
    "\n",
    "## Trabajo con Pandas\n",
    "\n",
    "Una serie de Panda es un vector unidimensional sujeto a un índice que puede\n",
    "especificarse o no. Para crear una serie básica empleamos la siguiente función."
   ]
  },
  {
   "cell_type": "code",
   "execution_count": 54,
   "metadata": {},
   "outputs": [
    {
     "data": {
      "text/plain": [
       "0    1.0\n",
       "1    3.0\n",
       "2    5.0\n",
       "3    NaN\n",
       "4    6.0\n",
       "5    8.0\n",
       "dtype: float64"
      ]
     },
     "execution_count": 54,
     "metadata": {},
     "output_type": "execute_result"
    }
   ],
   "source": [
    "import pandas as pd\n",
    "\n",
    "s = pd.Series([1,3,5,np.nan,6,8])\n",
    "s"
   ]
  },
  {
   "cell_type": "markdown",
   "metadata": {},
   "source": [
    "No obstante, quizá la estructura de datos más usada de Panda sean los DataFrames.\n",
    "Los DataFrames se corresponden con estructuras bidimensionales donde las\n",
    "columnas están etiquetadas con su valor y pueden ser de tipos distintos. Puede\n",
    "pensarse en un DataFrame como algo similar a una hoja de cálculo de Excel. De forma\n",
    "opcional, un DataFrame puede tener un índice, que corresponderá a los nombres que\n",
    "\n",
    "se desea para las filas. A continuación se muestra un ejemplo de un DataFrame donde\n",
    "el índice corresponde a fechas."
   ]
  },
  {
   "cell_type": "code",
   "execution_count": 6,
   "metadata": {},
   "outputs": [
    {
     "data": {
      "text/plain": [
       "DatetimeIndex(['2013-01-01', '2013-01-02', '2013-01-03', '2013-01-04',\n",
       "               '2013-01-05', '2013-01-06'],\n",
       "              dtype='datetime64[ns]', freq='D')"
      ]
     },
     "execution_count": 6,
     "metadata": {},
     "output_type": "execute_result"
    }
   ],
   "source": [
    "import pandas as pd\n",
    "dates = pd.date_range('20130101', periods=6)\n",
    "dates"
   ]
  },
  {
   "cell_type": "markdown",
   "metadata": {},
   "source": [
    "## DataFrame en Pandas."
   ]
  },
  {
   "cell_type": "code",
   "execution_count": 8,
   "metadata": {},
   "outputs": [
    {
     "data": {
      "text/html": [
       "<div>\n",
       "<style scoped>\n",
       "    .dataframe tbody tr th:only-of-type {\n",
       "        vertical-align: middle;\n",
       "    }\n",
       "\n",
       "    .dataframe tbody tr th {\n",
       "        vertical-align: top;\n",
       "    }\n",
       "\n",
       "    .dataframe thead th {\n",
       "        text-align: right;\n",
       "    }\n",
       "</style>\n",
       "<table border=\"1\" class=\"dataframe\">\n",
       "  <thead>\n",
       "    <tr style=\"text-align: right;\">\n",
       "      <th></th>\n",
       "      <th>A</th>\n",
       "      <th>B</th>\n",
       "      <th>C</th>\n",
       "      <th>D</th>\n",
       "    </tr>\n",
       "  </thead>\n",
       "  <tbody>\n",
       "    <tr>\n",
       "      <th>2013-01-01</th>\n",
       "      <td>0.526185</td>\n",
       "      <td>-0.966486</td>\n",
       "      <td>-0.248393</td>\n",
       "      <td>0.056095</td>\n",
       "    </tr>\n",
       "    <tr>\n",
       "      <th>2013-01-02</th>\n",
       "      <td>-0.483204</td>\n",
       "      <td>0.068979</td>\n",
       "      <td>-1.103594</td>\n",
       "      <td>-0.524648</td>\n",
       "    </tr>\n",
       "    <tr>\n",
       "      <th>2013-01-03</th>\n",
       "      <td>1.799883</td>\n",
       "      <td>-0.359989</td>\n",
       "      <td>2.003893</td>\n",
       "      <td>-1.268344</td>\n",
       "    </tr>\n",
       "    <tr>\n",
       "      <th>2013-01-04</th>\n",
       "      <td>-0.486742</td>\n",
       "      <td>-0.488437</td>\n",
       "      <td>0.965546</td>\n",
       "      <td>-0.899394</td>\n",
       "    </tr>\n",
       "    <tr>\n",
       "      <th>2013-01-05</th>\n",
       "      <td>0.277236</td>\n",
       "      <td>-1.940750</td>\n",
       "      <td>-1.519530</td>\n",
       "      <td>-0.774743</td>\n",
       "    </tr>\n",
       "    <tr>\n",
       "      <th>2013-01-06</th>\n",
       "      <td>0.036332</td>\n",
       "      <td>0.148495</td>\n",
       "      <td>-0.334721</td>\n",
       "      <td>-0.183687</td>\n",
       "    </tr>\n",
       "  </tbody>\n",
       "</table>\n",
       "</div>"
      ],
      "text/plain": [
       "                   A         B         C         D\n",
       "2013-01-01  0.526185 -0.966486 -0.248393  0.056095\n",
       "2013-01-02 -0.483204  0.068979 -1.103594 -0.524648\n",
       "2013-01-03  1.799883 -0.359989  2.003893 -1.268344\n",
       "2013-01-04 -0.486742 -0.488437  0.965546 -0.899394\n",
       "2013-01-05  0.277236 -1.940750 -1.519530 -0.774743\n",
       "2013-01-06  0.036332  0.148495 -0.334721 -0.183687"
      ]
     },
     "execution_count": 8,
     "metadata": {},
     "output_type": "execute_result"
    }
   ],
   "source": [
    "import pandas as pd\n",
    "import numpy as np\n",
    "df = pd.DataFrame(np.random.randn(6,4), index=dates, columns=list('ABCD'))\n",
    "df"
   ]
  },
  {
   "cell_type": "markdown",
   "metadata": {},
   "source": [
    "## DataFrame con tipos de datos variados."
   ]
  },
  {
   "cell_type": "code",
   "execution_count": 9,
   "metadata": {},
   "outputs": [
    {
     "data": {
      "text/html": [
       "<div>\n",
       "<style scoped>\n",
       "    .dataframe tbody tr th:only-of-type {\n",
       "        vertical-align: middle;\n",
       "    }\n",
       "\n",
       "    .dataframe tbody tr th {\n",
       "        vertical-align: top;\n",
       "    }\n",
       "\n",
       "    .dataframe thead th {\n",
       "        text-align: right;\n",
       "    }\n",
       "</style>\n",
       "<table border=\"1\" class=\"dataframe\">\n",
       "  <thead>\n",
       "    <tr style=\"text-align: right;\">\n",
       "      <th></th>\n",
       "      <th>A</th>\n",
       "      <th>B</th>\n",
       "      <th>c</th>\n",
       "      <th>D</th>\n",
       "      <th>E</th>\n",
       "      <th>F</th>\n",
       "    </tr>\n",
       "  </thead>\n",
       "  <tbody>\n",
       "    <tr>\n",
       "      <th>0</th>\n",
       "      <td>1.0</td>\n",
       "      <td>2013-01-02</td>\n",
       "      <td>1.0</td>\n",
       "      <td>3</td>\n",
       "      <td>test</td>\n",
       "      <td>foo</td>\n",
       "    </tr>\n",
       "    <tr>\n",
       "      <th>1</th>\n",
       "      <td>1.0</td>\n",
       "      <td>2013-01-02</td>\n",
       "      <td>1.0</td>\n",
       "      <td>3</td>\n",
       "      <td>train</td>\n",
       "      <td>foo</td>\n",
       "    </tr>\n",
       "    <tr>\n",
       "      <th>2</th>\n",
       "      <td>1.0</td>\n",
       "      <td>2013-01-02</td>\n",
       "      <td>1.0</td>\n",
       "      <td>3</td>\n",
       "      <td>test</td>\n",
       "      <td>foo</td>\n",
       "    </tr>\n",
       "    <tr>\n",
       "      <th>3</th>\n",
       "      <td>1.0</td>\n",
       "      <td>2013-01-02</td>\n",
       "      <td>1.0</td>\n",
       "      <td>3</td>\n",
       "      <td>train</td>\n",
       "      <td>foo</td>\n",
       "    </tr>\n",
       "  </tbody>\n",
       "</table>\n",
       "</div>"
      ],
      "text/plain": [
       "     A          B    c  D      E    F\n",
       "0  1.0 2013-01-02  1.0  3   test  foo\n",
       "1  1.0 2013-01-02  1.0  3  train  foo\n",
       "2  1.0 2013-01-02  1.0  3   test  foo\n",
       "3  1.0 2013-01-02  1.0  3  train  foo"
      ]
     },
     "execution_count": 9,
     "metadata": {},
     "output_type": "execute_result"
    }
   ],
   "source": [
    "df2 = pd.DataFrame({'A':1.,\n",
    "                    'B':pd.Timestamp('20130102'),\n",
    "                    'c':pd.Series(1,index=list(range(4)),dtype='float32'),\n",
    "                    'D':np.array([3]*4,dtype='int32'),\n",
    "                    'E':pd.Categorical([\"test\",\"train\",\"test\",\"train\"]),\n",
    "                    'F':'foo'})\n",
    "df2"
   ]
  },
  {
   "cell_type": "code",
   "execution_count": 10,
   "metadata": {},
   "outputs": [
    {
     "data": {
      "text/plain": [
       "DatetimeIndex(['2013-01-01', '2013-01-02', '2013-01-03', '2013-01-04',\n",
       "               '2013-01-05', '2013-01-06'],\n",
       "              dtype='datetime64[ns]', freq='D')"
      ]
     },
     "execution_count": 10,
     "metadata": {},
     "output_type": "execute_result"
    }
   ],
   "source": [
    "df.index"
   ]
  },
  {
   "cell_type": "code",
   "execution_count": 12,
   "metadata": {},
   "outputs": [
    {
     "data": {
      "text/plain": [
       "Index(['A', 'B', 'C', 'D'], dtype='object')"
      ]
     },
     "execution_count": 12,
     "metadata": {},
     "output_type": "execute_result"
    }
   ],
   "source": [
    "df.columns"
   ]
  },
  {
   "cell_type": "code",
   "execution_count": 13,
   "metadata": {},
   "outputs": [
    {
     "data": {
      "text/plain": [
       "array([[ 0.52618544, -0.96648621, -0.24839268,  0.05609474],\n",
       "       [-0.48320361,  0.06897894, -1.10359358, -0.52464763],\n",
       "       [ 1.79988341, -0.3599894 ,  2.00389259, -1.26834406],\n",
       "       [-0.48674152, -0.48843653,  0.96554585, -0.89939412],\n",
       "       [ 0.27723647, -1.9407498 , -1.51952979, -0.77474285],\n",
       "       [ 0.03633152,  0.14849512, -0.33472104, -0.18368687]])"
      ]
     },
     "execution_count": 13,
     "metadata": {},
     "output_type": "execute_result"
    }
   ],
   "source": [
    "df.values"
   ]
  },
  {
   "cell_type": "code",
   "execution_count": 14,
   "metadata": {},
   "outputs": [
    {
     "data": {
      "text/html": [
       "<div>\n",
       "<style scoped>\n",
       "    .dataframe tbody tr th:only-of-type {\n",
       "        vertical-align: middle;\n",
       "    }\n",
       "\n",
       "    .dataframe tbody tr th {\n",
       "        vertical-align: top;\n",
       "    }\n",
       "\n",
       "    .dataframe thead th {\n",
       "        text-align: right;\n",
       "    }\n",
       "</style>\n",
       "<table border=\"1\" class=\"dataframe\">\n",
       "  <thead>\n",
       "    <tr style=\"text-align: right;\">\n",
       "      <th></th>\n",
       "      <th>A</th>\n",
       "      <th>B</th>\n",
       "      <th>C</th>\n",
       "      <th>D</th>\n",
       "    </tr>\n",
       "  </thead>\n",
       "  <tbody>\n",
       "    <tr>\n",
       "      <th>count</th>\n",
       "      <td>6.000000</td>\n",
       "      <td>6.000000</td>\n",
       "      <td>6.000000</td>\n",
       "      <td>6.000000</td>\n",
       "    </tr>\n",
       "    <tr>\n",
       "      <th>mean</th>\n",
       "      <td>0.278282</td>\n",
       "      <td>-0.589698</td>\n",
       "      <td>-0.039466</td>\n",
       "      <td>-0.599120</td>\n",
       "    </tr>\n",
       "    <tr>\n",
       "      <th>std</th>\n",
       "      <td>0.848574</td>\n",
       "      <td>0.775772</td>\n",
       "      <td>1.314469</td>\n",
       "      <td>0.485037</td>\n",
       "    </tr>\n",
       "    <tr>\n",
       "      <th>min</th>\n",
       "      <td>-0.486742</td>\n",
       "      <td>-1.940750</td>\n",
       "      <td>-1.519530</td>\n",
       "      <td>-1.268344</td>\n",
       "    </tr>\n",
       "    <tr>\n",
       "      <th>25%</th>\n",
       "      <td>-0.353320</td>\n",
       "      <td>-0.846974</td>\n",
       "      <td>-0.911375</td>\n",
       "      <td>-0.868231</td>\n",
       "    </tr>\n",
       "    <tr>\n",
       "      <th>50%</th>\n",
       "      <td>0.156784</td>\n",
       "      <td>-0.424213</td>\n",
       "      <td>-0.291557</td>\n",
       "      <td>-0.649695</td>\n",
       "    </tr>\n",
       "    <tr>\n",
       "      <th>75%</th>\n",
       "      <td>0.463948</td>\n",
       "      <td>-0.038263</td>\n",
       "      <td>0.662061</td>\n",
       "      <td>-0.268927</td>\n",
       "    </tr>\n",
       "    <tr>\n",
       "      <th>max</th>\n",
       "      <td>1.799883</td>\n",
       "      <td>0.148495</td>\n",
       "      <td>2.003893</td>\n",
       "      <td>0.056095</td>\n",
       "    </tr>\n",
       "  </tbody>\n",
       "</table>\n",
       "</div>"
      ],
      "text/plain": [
       "              A         B         C         D\n",
       "count  6.000000  6.000000  6.000000  6.000000\n",
       "mean   0.278282 -0.589698 -0.039466 -0.599120\n",
       "std    0.848574  0.775772  1.314469  0.485037\n",
       "min   -0.486742 -1.940750 -1.519530 -1.268344\n",
       "25%   -0.353320 -0.846974 -0.911375 -0.868231\n",
       "50%    0.156784 -0.424213 -0.291557 -0.649695\n",
       "75%    0.463948 -0.038263  0.662061 -0.268927\n",
       "max    1.799883  0.148495  2.003893  0.056095"
      ]
     },
     "execution_count": 14,
     "metadata": {},
     "output_type": "execute_result"
    }
   ],
   "source": [
    "df.describe()"
   ]
  },
  {
   "cell_type": "markdown",
   "metadata": {},
   "source": [
    "Realizar la transposición del DataFrame y ordenar son algunas de las funcionalidades\n",
    "más recurridas:"
   ]
  },
  {
   "cell_type": "code",
   "execution_count": 15,
   "metadata": {},
   "outputs": [
    {
     "data": {
      "text/html": [
       "<div>\n",
       "<style scoped>\n",
       "    .dataframe tbody tr th:only-of-type {\n",
       "        vertical-align: middle;\n",
       "    }\n",
       "\n",
       "    .dataframe tbody tr th {\n",
       "        vertical-align: top;\n",
       "    }\n",
       "\n",
       "    .dataframe thead th {\n",
       "        text-align: right;\n",
       "    }\n",
       "</style>\n",
       "<table border=\"1\" class=\"dataframe\">\n",
       "  <thead>\n",
       "    <tr style=\"text-align: right;\">\n",
       "      <th></th>\n",
       "      <th>2013-01-01</th>\n",
       "      <th>2013-01-02</th>\n",
       "      <th>2013-01-03</th>\n",
       "      <th>2013-01-04</th>\n",
       "      <th>2013-01-05</th>\n",
       "      <th>2013-01-06</th>\n",
       "    </tr>\n",
       "  </thead>\n",
       "  <tbody>\n",
       "    <tr>\n",
       "      <th>A</th>\n",
       "      <td>0.526185</td>\n",
       "      <td>-0.483204</td>\n",
       "      <td>1.799883</td>\n",
       "      <td>-0.486742</td>\n",
       "      <td>0.277236</td>\n",
       "      <td>0.036332</td>\n",
       "    </tr>\n",
       "    <tr>\n",
       "      <th>B</th>\n",
       "      <td>-0.966486</td>\n",
       "      <td>0.068979</td>\n",
       "      <td>-0.359989</td>\n",
       "      <td>-0.488437</td>\n",
       "      <td>-1.940750</td>\n",
       "      <td>0.148495</td>\n",
       "    </tr>\n",
       "    <tr>\n",
       "      <th>C</th>\n",
       "      <td>-0.248393</td>\n",
       "      <td>-1.103594</td>\n",
       "      <td>2.003893</td>\n",
       "      <td>0.965546</td>\n",
       "      <td>-1.519530</td>\n",
       "      <td>-0.334721</td>\n",
       "    </tr>\n",
       "    <tr>\n",
       "      <th>D</th>\n",
       "      <td>0.056095</td>\n",
       "      <td>-0.524648</td>\n",
       "      <td>-1.268344</td>\n",
       "      <td>-0.899394</td>\n",
       "      <td>-0.774743</td>\n",
       "      <td>-0.183687</td>\n",
       "    </tr>\n",
       "  </tbody>\n",
       "</table>\n",
       "</div>"
      ],
      "text/plain": [
       "   2013-01-01  2013-01-02  2013-01-03  2013-01-04  2013-01-05  2013-01-06\n",
       "A    0.526185   -0.483204    1.799883   -0.486742    0.277236    0.036332\n",
       "B   -0.966486    0.068979   -0.359989   -0.488437   -1.940750    0.148495\n",
       "C   -0.248393   -1.103594    2.003893    0.965546   -1.519530   -0.334721\n",
       "D    0.056095   -0.524648   -1.268344   -0.899394   -0.774743   -0.183687"
      ]
     },
     "execution_count": 15,
     "metadata": {},
     "output_type": "execute_result"
    }
   ],
   "source": [
    "df.T"
   ]
  },
  {
   "cell_type": "markdown",
   "metadata": {},
   "source": [
    "## Transposición y ordenación."
   ]
  },
  {
   "cell_type": "code",
   "execution_count": 16,
   "metadata": {},
   "outputs": [
    {
     "data": {
      "text/html": [
       "<div>\n",
       "<style scoped>\n",
       "    .dataframe tbody tr th:only-of-type {\n",
       "        vertical-align: middle;\n",
       "    }\n",
       "\n",
       "    .dataframe tbody tr th {\n",
       "        vertical-align: top;\n",
       "    }\n",
       "\n",
       "    .dataframe thead th {\n",
       "        text-align: right;\n",
       "    }\n",
       "</style>\n",
       "<table border=\"1\" class=\"dataframe\">\n",
       "  <thead>\n",
       "    <tr style=\"text-align: right;\">\n",
       "      <th></th>\n",
       "      <th>D</th>\n",
       "      <th>C</th>\n",
       "      <th>B</th>\n",
       "      <th>A</th>\n",
       "    </tr>\n",
       "  </thead>\n",
       "  <tbody>\n",
       "    <tr>\n",
       "      <th>2013-01-01</th>\n",
       "      <td>0.056095</td>\n",
       "      <td>-0.248393</td>\n",
       "      <td>-0.966486</td>\n",
       "      <td>0.526185</td>\n",
       "    </tr>\n",
       "    <tr>\n",
       "      <th>2013-01-02</th>\n",
       "      <td>-0.524648</td>\n",
       "      <td>-1.103594</td>\n",
       "      <td>0.068979</td>\n",
       "      <td>-0.483204</td>\n",
       "    </tr>\n",
       "    <tr>\n",
       "      <th>2013-01-03</th>\n",
       "      <td>-1.268344</td>\n",
       "      <td>2.003893</td>\n",
       "      <td>-0.359989</td>\n",
       "      <td>1.799883</td>\n",
       "    </tr>\n",
       "    <tr>\n",
       "      <th>2013-01-04</th>\n",
       "      <td>-0.899394</td>\n",
       "      <td>0.965546</td>\n",
       "      <td>-0.488437</td>\n",
       "      <td>-0.486742</td>\n",
       "    </tr>\n",
       "    <tr>\n",
       "      <th>2013-01-05</th>\n",
       "      <td>-0.774743</td>\n",
       "      <td>-1.519530</td>\n",
       "      <td>-1.940750</td>\n",
       "      <td>0.277236</td>\n",
       "    </tr>\n",
       "    <tr>\n",
       "      <th>2013-01-06</th>\n",
       "      <td>-0.183687</td>\n",
       "      <td>-0.334721</td>\n",
       "      <td>0.148495</td>\n",
       "      <td>0.036332</td>\n",
       "    </tr>\n",
       "  </tbody>\n",
       "</table>\n",
       "</div>"
      ],
      "text/plain": [
       "                   D         C         B         A\n",
       "2013-01-01  0.056095 -0.248393 -0.966486  0.526185\n",
       "2013-01-02 -0.524648 -1.103594  0.068979 -0.483204\n",
       "2013-01-03 -1.268344  2.003893 -0.359989  1.799883\n",
       "2013-01-04 -0.899394  0.965546 -0.488437 -0.486742\n",
       "2013-01-05 -0.774743 -1.519530 -1.940750  0.277236\n",
       "2013-01-06 -0.183687 -0.334721  0.148495  0.036332"
      ]
     },
     "execution_count": 16,
     "metadata": {},
     "output_type": "execute_result"
    }
   ],
   "source": [
    "df.sort_index(axis=1, ascending=False)"
   ]
  },
  {
   "cell_type": "markdown",
   "metadata": {},
   "source": [
    "El acceso a los datos guarda algunas similitudes con lo visto con la librería NumPy. Las\n",
    "funciones head() y tail() nos proporcionan una visión de los datos de cabeza y del\n",
    "final de la estructura.\n",
    "\n",
    "## Encabezado y final de un DataFrame."
   ]
  },
  {
   "cell_type": "code",
   "execution_count": 18,
   "metadata": {},
   "outputs": [
    {
     "data": {
      "text/html": [
       "<div>\n",
       "<style scoped>\n",
       "    .dataframe tbody tr th:only-of-type {\n",
       "        vertical-align: middle;\n",
       "    }\n",
       "\n",
       "    .dataframe tbody tr th {\n",
       "        vertical-align: top;\n",
       "    }\n",
       "\n",
       "    .dataframe thead th {\n",
       "        text-align: right;\n",
       "    }\n",
       "</style>\n",
       "<table border=\"1\" class=\"dataframe\">\n",
       "  <thead>\n",
       "    <tr style=\"text-align: right;\">\n",
       "      <th></th>\n",
       "      <th>A</th>\n",
       "      <th>B</th>\n",
       "      <th>C</th>\n",
       "      <th>D</th>\n",
       "    </tr>\n",
       "  </thead>\n",
       "  <tbody>\n",
       "    <tr>\n",
       "      <th>2013-01-01</th>\n",
       "      <td>0.526185</td>\n",
       "      <td>-0.966486</td>\n",
       "      <td>-0.248393</td>\n",
       "      <td>0.056095</td>\n",
       "    </tr>\n",
       "    <tr>\n",
       "      <th>2013-01-02</th>\n",
       "      <td>-0.483204</td>\n",
       "      <td>0.068979</td>\n",
       "      <td>-1.103594</td>\n",
       "      <td>-0.524648</td>\n",
       "    </tr>\n",
       "    <tr>\n",
       "      <th>2013-01-03</th>\n",
       "      <td>1.799883</td>\n",
       "      <td>-0.359989</td>\n",
       "      <td>2.003893</td>\n",
       "      <td>-1.268344</td>\n",
       "    </tr>\n",
       "    <tr>\n",
       "      <th>2013-01-04</th>\n",
       "      <td>-0.486742</td>\n",
       "      <td>-0.488437</td>\n",
       "      <td>0.965546</td>\n",
       "      <td>-0.899394</td>\n",
       "    </tr>\n",
       "    <tr>\n",
       "      <th>2013-01-05</th>\n",
       "      <td>0.277236</td>\n",
       "      <td>-1.940750</td>\n",
       "      <td>-1.519530</td>\n",
       "      <td>-0.774743</td>\n",
       "    </tr>\n",
       "  </tbody>\n",
       "</table>\n",
       "</div>"
      ],
      "text/plain": [
       "                   A         B         C         D\n",
       "2013-01-01  0.526185 -0.966486 -0.248393  0.056095\n",
       "2013-01-02 -0.483204  0.068979 -1.103594 -0.524648\n",
       "2013-01-03  1.799883 -0.359989  2.003893 -1.268344\n",
       "2013-01-04 -0.486742 -0.488437  0.965546 -0.899394\n",
       "2013-01-05  0.277236 -1.940750 -1.519530 -0.774743"
      ]
     },
     "execution_count": 18,
     "metadata": {},
     "output_type": "execute_result"
    }
   ],
   "source": [
    "df.head()"
   ]
  },
  {
   "cell_type": "code",
   "execution_count": 21,
   "metadata": {},
   "outputs": [
    {
     "data": {
      "text/html": [
       "<div>\n",
       "<style scoped>\n",
       "    .dataframe tbody tr th:only-of-type {\n",
       "        vertical-align: middle;\n",
       "    }\n",
       "\n",
       "    .dataframe tbody tr th {\n",
       "        vertical-align: top;\n",
       "    }\n",
       "\n",
       "    .dataframe thead th {\n",
       "        text-align: right;\n",
       "    }\n",
       "</style>\n",
       "<table border=\"1\" class=\"dataframe\">\n",
       "  <thead>\n",
       "    <tr style=\"text-align: right;\">\n",
       "      <th></th>\n",
       "      <th>A</th>\n",
       "      <th>B</th>\n",
       "      <th>C</th>\n",
       "      <th>D</th>\n",
       "    </tr>\n",
       "  </thead>\n",
       "  <tbody>\n",
       "    <tr>\n",
       "      <th>2013-01-04</th>\n",
       "      <td>-0.486742</td>\n",
       "      <td>-0.488437</td>\n",
       "      <td>0.965546</td>\n",
       "      <td>-0.899394</td>\n",
       "    </tr>\n",
       "    <tr>\n",
       "      <th>2013-01-05</th>\n",
       "      <td>0.277236</td>\n",
       "      <td>-1.940750</td>\n",
       "      <td>-1.519530</td>\n",
       "      <td>-0.774743</td>\n",
       "    </tr>\n",
       "    <tr>\n",
       "      <th>2013-01-06</th>\n",
       "      <td>0.036332</td>\n",
       "      <td>0.148495</td>\n",
       "      <td>-0.334721</td>\n",
       "      <td>-0.183687</td>\n",
       "    </tr>\n",
       "  </tbody>\n",
       "</table>\n",
       "</div>"
      ],
      "text/plain": [
       "                   A         B         C         D\n",
       "2013-01-04 -0.486742 -0.488437  0.965546 -0.899394\n",
       "2013-01-05  0.277236 -1.940750 -1.519530 -0.774743\n",
       "2013-01-06  0.036332  0.148495 -0.334721 -0.183687"
      ]
     },
     "execution_count": 21,
     "metadata": {},
     "output_type": "execute_result"
    }
   ],
   "source": [
    "df.tail(3)"
   ]
  },
  {
   "cell_type": "markdown",
   "metadata": {},
   "source": [
    "## Accediendo a los valores del DataFrame.\n",
    "Para acceder a los valores individuales por columna, fila, o un rango de columnas o\n",
    "filas hay varias opciones disponibles que se muestran en los ejemplos siguientes."
   ]
  },
  {
   "cell_type": "code",
   "execution_count": 22,
   "metadata": {},
   "outputs": [
    {
     "data": {
      "text/plain": [
       "2013-01-01    0.526185\n",
       "2013-01-02   -0.483204\n",
       "2013-01-03    1.799883\n",
       "2013-01-04   -0.486742\n",
       "2013-01-05    0.277236\n",
       "2013-01-06    0.036332\n",
       "Freq: D, Name: A, dtype: float64"
      ]
     },
     "execution_count": 22,
     "metadata": {},
     "output_type": "execute_result"
    }
   ],
   "source": [
    "df['A']"
   ]
  },
  {
   "cell_type": "code",
   "execution_count": 24,
   "metadata": {},
   "outputs": [
    {
     "data": {
      "text/html": [
       "<div>\n",
       "<style scoped>\n",
       "    .dataframe tbody tr th:only-of-type {\n",
       "        vertical-align: middle;\n",
       "    }\n",
       "\n",
       "    .dataframe tbody tr th {\n",
       "        vertical-align: top;\n",
       "    }\n",
       "\n",
       "    .dataframe thead th {\n",
       "        text-align: right;\n",
       "    }\n",
       "</style>\n",
       "<table border=\"1\" class=\"dataframe\">\n",
       "  <thead>\n",
       "    <tr style=\"text-align: right;\">\n",
       "      <th></th>\n",
       "      <th>A</th>\n",
       "      <th>B</th>\n",
       "      <th>C</th>\n",
       "      <th>D</th>\n",
       "    </tr>\n",
       "  </thead>\n",
       "  <tbody>\n",
       "    <tr>\n",
       "      <th>2013-01-01</th>\n",
       "      <td>0.526185</td>\n",
       "      <td>-0.966486</td>\n",
       "      <td>-0.248393</td>\n",
       "      <td>0.056095</td>\n",
       "    </tr>\n",
       "    <tr>\n",
       "      <th>2013-01-02</th>\n",
       "      <td>-0.483204</td>\n",
       "      <td>0.068979</td>\n",
       "      <td>-1.103594</td>\n",
       "      <td>-0.524648</td>\n",
       "    </tr>\n",
       "    <tr>\n",
       "      <th>2013-01-03</th>\n",
       "      <td>1.799883</td>\n",
       "      <td>-0.359989</td>\n",
       "      <td>2.003893</td>\n",
       "      <td>-1.268344</td>\n",
       "    </tr>\n",
       "  </tbody>\n",
       "</table>\n",
       "</div>"
      ],
      "text/plain": [
       "                   A         B         C         D\n",
       "2013-01-01  0.526185 -0.966486 -0.248393  0.056095\n",
       "2013-01-02 -0.483204  0.068979 -1.103594 -0.524648\n",
       "2013-01-03  1.799883 -0.359989  2.003893 -1.268344"
      ]
     },
     "execution_count": 24,
     "metadata": {},
     "output_type": "execute_result"
    }
   ],
   "source": [
    "df[0:3]"
   ]
  },
  {
   "cell_type": "code",
   "execution_count": 25,
   "metadata": {},
   "outputs": [
    {
     "data": {
      "text/html": [
       "<div>\n",
       "<style scoped>\n",
       "    .dataframe tbody tr th:only-of-type {\n",
       "        vertical-align: middle;\n",
       "    }\n",
       "\n",
       "    .dataframe tbody tr th {\n",
       "        vertical-align: top;\n",
       "    }\n",
       "\n",
       "    .dataframe thead th {\n",
       "        text-align: right;\n",
       "    }\n",
       "</style>\n",
       "<table border=\"1\" class=\"dataframe\">\n",
       "  <thead>\n",
       "    <tr style=\"text-align: right;\">\n",
       "      <th></th>\n",
       "      <th>A</th>\n",
       "      <th>B</th>\n",
       "      <th>C</th>\n",
       "      <th>D</th>\n",
       "    </tr>\n",
       "  </thead>\n",
       "  <tbody>\n",
       "    <tr>\n",
       "      <th>2013-01-02</th>\n",
       "      <td>-0.483204</td>\n",
       "      <td>0.068979</td>\n",
       "      <td>-1.103594</td>\n",
       "      <td>-0.524648</td>\n",
       "    </tr>\n",
       "    <tr>\n",
       "      <th>2013-01-03</th>\n",
       "      <td>1.799883</td>\n",
       "      <td>-0.359989</td>\n",
       "      <td>2.003893</td>\n",
       "      <td>-1.268344</td>\n",
       "    </tr>\n",
       "    <tr>\n",
       "      <th>2013-01-04</th>\n",
       "      <td>-0.486742</td>\n",
       "      <td>-0.488437</td>\n",
       "      <td>0.965546</td>\n",
       "      <td>-0.899394</td>\n",
       "    </tr>\n",
       "  </tbody>\n",
       "</table>\n",
       "</div>"
      ],
      "text/plain": [
       "                   A         B         C         D\n",
       "2013-01-02 -0.483204  0.068979 -1.103594 -0.524648\n",
       "2013-01-03  1.799883 -0.359989  2.003893 -1.268344\n",
       "2013-01-04 -0.486742 -0.488437  0.965546 -0.899394"
      ]
     },
     "execution_count": 25,
     "metadata": {},
     "output_type": "execute_result"
    }
   ],
   "source": [
    "df['20130102':'20130104']"
   ]
  },
  {
   "cell_type": "markdown",
   "metadata": {},
   "source": [
    "## Seleccionando valores a través del índice\n",
    "Si queremos realizar una selección a través del índice deberemos emplear la función\n",
    ".loc()"
   ]
  },
  {
   "cell_type": "code",
   "execution_count": 27,
   "metadata": {},
   "outputs": [
    {
     "data": {
      "text/plain": [
       "A    0.526185\n",
       "B   -0.966486\n",
       "C   -0.248393\n",
       "D    0.056095\n",
       "Name: 2013-01-01 00:00:00, dtype: float64"
      ]
     },
     "execution_count": 27,
     "metadata": {},
     "output_type": "execute_result"
    }
   ],
   "source": [
    "df.loc[dates[0]]"
   ]
  },
  {
   "cell_type": "code",
   "execution_count": 28,
   "metadata": {},
   "outputs": [
    {
     "data": {
      "text/html": [
       "<div>\n",
       "<style scoped>\n",
       "    .dataframe tbody tr th:only-of-type {\n",
       "        vertical-align: middle;\n",
       "    }\n",
       "\n",
       "    .dataframe tbody tr th {\n",
       "        vertical-align: top;\n",
       "    }\n",
       "\n",
       "    .dataframe thead th {\n",
       "        text-align: right;\n",
       "    }\n",
       "</style>\n",
       "<table border=\"1\" class=\"dataframe\">\n",
       "  <thead>\n",
       "    <tr style=\"text-align: right;\">\n",
       "      <th></th>\n",
       "      <th>A</th>\n",
       "      <th>B</th>\n",
       "    </tr>\n",
       "  </thead>\n",
       "  <tbody>\n",
       "    <tr>\n",
       "      <th>2013-01-01</th>\n",
       "      <td>0.526185</td>\n",
       "      <td>-0.966486</td>\n",
       "    </tr>\n",
       "    <tr>\n",
       "      <th>2013-01-02</th>\n",
       "      <td>-0.483204</td>\n",
       "      <td>0.068979</td>\n",
       "    </tr>\n",
       "    <tr>\n",
       "      <th>2013-01-03</th>\n",
       "      <td>1.799883</td>\n",
       "      <td>-0.359989</td>\n",
       "    </tr>\n",
       "    <tr>\n",
       "      <th>2013-01-04</th>\n",
       "      <td>-0.486742</td>\n",
       "      <td>-0.488437</td>\n",
       "    </tr>\n",
       "    <tr>\n",
       "      <th>2013-01-05</th>\n",
       "      <td>0.277236</td>\n",
       "      <td>-1.940750</td>\n",
       "    </tr>\n",
       "    <tr>\n",
       "      <th>2013-01-06</th>\n",
       "      <td>0.036332</td>\n",
       "      <td>0.148495</td>\n",
       "    </tr>\n",
       "  </tbody>\n",
       "</table>\n",
       "</div>"
      ],
      "text/plain": [
       "                   A         B\n",
       "2013-01-01  0.526185 -0.966486\n",
       "2013-01-02 -0.483204  0.068979\n",
       "2013-01-03  1.799883 -0.359989\n",
       "2013-01-04 -0.486742 -0.488437\n",
       "2013-01-05  0.277236 -1.940750\n",
       "2013-01-06  0.036332  0.148495"
      ]
     },
     "execution_count": 28,
     "metadata": {},
     "output_type": "execute_result"
    }
   ],
   "source": [
    "df.loc[:,['A','B']]"
   ]
  },
  {
   "cell_type": "code",
   "execution_count": 30,
   "metadata": {},
   "outputs": [
    {
     "data": {
      "text/html": [
       "<div>\n",
       "<style scoped>\n",
       "    .dataframe tbody tr th:only-of-type {\n",
       "        vertical-align: middle;\n",
       "    }\n",
       "\n",
       "    .dataframe tbody tr th {\n",
       "        vertical-align: top;\n",
       "    }\n",
       "\n",
       "    .dataframe thead th {\n",
       "        text-align: right;\n",
       "    }\n",
       "</style>\n",
       "<table border=\"1\" class=\"dataframe\">\n",
       "  <thead>\n",
       "    <tr style=\"text-align: right;\">\n",
       "      <th></th>\n",
       "      <th>A</th>\n",
       "      <th>B</th>\n",
       "    </tr>\n",
       "  </thead>\n",
       "  <tbody>\n",
       "    <tr>\n",
       "      <th>2013-01-02</th>\n",
       "      <td>-0.483204</td>\n",
       "      <td>0.068979</td>\n",
       "    </tr>\n",
       "    <tr>\n",
       "      <th>2013-01-03</th>\n",
       "      <td>1.799883</td>\n",
       "      <td>-0.359989</td>\n",
       "    </tr>\n",
       "    <tr>\n",
       "      <th>2013-01-04</th>\n",
       "      <td>-0.486742</td>\n",
       "      <td>-0.488437</td>\n",
       "    </tr>\n",
       "  </tbody>\n",
       "</table>\n",
       "</div>"
      ],
      "text/plain": [
       "                   A         B\n",
       "2013-01-02 -0.483204  0.068979\n",
       "2013-01-03  1.799883 -0.359989\n",
       "2013-01-04 -0.486742 -0.488437"
      ]
     },
     "execution_count": 30,
     "metadata": {},
     "output_type": "execute_result"
    }
   ],
   "source": [
    "df.loc['20130102':'20130104',['A','B']]"
   ]
  },
  {
   "cell_type": "markdown",
   "metadata": {},
   "source": [
    "## Accediendo a través de la posición del índice.\n",
    "iloc() es otra de las opciones posibles, observar cómo en este caso es preciso pasar\n",
    "un número entero asociado a la posición del índice."
   ]
  },
  {
   "cell_type": "code",
   "execution_count": 31,
   "metadata": {},
   "outputs": [
    {
     "data": {
      "text/plain": [
       "A   -0.486742\n",
       "B   -0.488437\n",
       "C    0.965546\n",
       "D   -0.899394\n",
       "Name: 2013-01-04 00:00:00, dtype: float64"
      ]
     },
     "execution_count": 31,
     "metadata": {},
     "output_type": "execute_result"
    }
   ],
   "source": [
    "df.iloc[3]"
   ]
  },
  {
   "cell_type": "code",
   "execution_count": 32,
   "metadata": {},
   "outputs": [
    {
     "data": {
      "text/html": [
       "<div>\n",
       "<style scoped>\n",
       "    .dataframe tbody tr th:only-of-type {\n",
       "        vertical-align: middle;\n",
       "    }\n",
       "\n",
       "    .dataframe tbody tr th {\n",
       "        vertical-align: top;\n",
       "    }\n",
       "\n",
       "    .dataframe thead th {\n",
       "        text-align: right;\n",
       "    }\n",
       "</style>\n",
       "<table border=\"1\" class=\"dataframe\">\n",
       "  <thead>\n",
       "    <tr style=\"text-align: right;\">\n",
       "      <th></th>\n",
       "      <th>A</th>\n",
       "      <th>B</th>\n",
       "    </tr>\n",
       "  </thead>\n",
       "  <tbody>\n",
       "    <tr>\n",
       "      <th>2013-01-04</th>\n",
       "      <td>-0.486742</td>\n",
       "      <td>-0.488437</td>\n",
       "    </tr>\n",
       "    <tr>\n",
       "      <th>2013-01-05</th>\n",
       "      <td>0.277236</td>\n",
       "      <td>-1.940750</td>\n",
       "    </tr>\n",
       "  </tbody>\n",
       "</table>\n",
       "</div>"
      ],
      "text/plain": [
       "                   A         B\n",
       "2013-01-04 -0.486742 -0.488437\n",
       "2013-01-05  0.277236 -1.940750"
      ]
     },
     "execution_count": 32,
     "metadata": {},
     "output_type": "execute_result"
    }
   ],
   "source": [
    "df.iloc[3:5,0:2]"
   ]
  },
  {
   "cell_type": "code",
   "execution_count": 33,
   "metadata": {},
   "outputs": [
    {
     "data": {
      "text/html": [
       "<div>\n",
       "<style scoped>\n",
       "    .dataframe tbody tr th:only-of-type {\n",
       "        vertical-align: middle;\n",
       "    }\n",
       "\n",
       "    .dataframe tbody tr th {\n",
       "        vertical-align: top;\n",
       "    }\n",
       "\n",
       "    .dataframe thead th {\n",
       "        text-align: right;\n",
       "    }\n",
       "</style>\n",
       "<table border=\"1\" class=\"dataframe\">\n",
       "  <thead>\n",
       "    <tr style=\"text-align: right;\">\n",
       "      <th></th>\n",
       "      <th>A</th>\n",
       "      <th>C</th>\n",
       "    </tr>\n",
       "  </thead>\n",
       "  <tbody>\n",
       "    <tr>\n",
       "      <th>2013-01-02</th>\n",
       "      <td>-0.483204</td>\n",
       "      <td>-1.103594</td>\n",
       "    </tr>\n",
       "    <tr>\n",
       "      <th>2013-01-03</th>\n",
       "      <td>1.799883</td>\n",
       "      <td>2.003893</td>\n",
       "    </tr>\n",
       "    <tr>\n",
       "      <th>2013-01-05</th>\n",
       "      <td>0.277236</td>\n",
       "      <td>-1.519530</td>\n",
       "    </tr>\n",
       "  </tbody>\n",
       "</table>\n",
       "</div>"
      ],
      "text/plain": [
       "                   A         C\n",
       "2013-01-02 -0.483204 -1.103594\n",
       "2013-01-03  1.799883  2.003893\n",
       "2013-01-05  0.277236 -1.519530"
      ]
     },
     "execution_count": 33,
     "metadata": {},
     "output_type": "execute_result"
    }
   ],
   "source": [
    "df.iloc[[1,2,4],[0,2]]"
   ]
  },
  {
   "cell_type": "markdown",
   "metadata": {},
   "source": [
    "## Filtros con panda.\n",
    "También tenemos la opción de filtrar y seleccionar únicamente los valores que\n",
    "cumplan una determinada condición."
   ]
  },
  {
   "cell_type": "code",
   "execution_count": 38,
   "metadata": {},
   "outputs": [
    {
     "data": {
      "text/html": [
       "<div>\n",
       "<style scoped>\n",
       "    .dataframe tbody tr th:only-of-type {\n",
       "        vertical-align: middle;\n",
       "    }\n",
       "\n",
       "    .dataframe tbody tr th {\n",
       "        vertical-align: top;\n",
       "    }\n",
       "\n",
       "    .dataframe thead th {\n",
       "        text-align: right;\n",
       "    }\n",
       "</style>\n",
       "<table border=\"1\" class=\"dataframe\">\n",
       "  <thead>\n",
       "    <tr style=\"text-align: right;\">\n",
       "      <th></th>\n",
       "      <th>A</th>\n",
       "      <th>B</th>\n",
       "      <th>C</th>\n",
       "      <th>D</th>\n",
       "    </tr>\n",
       "  </thead>\n",
       "  <tbody>\n",
       "    <tr>\n",
       "      <th>2013-01-01</th>\n",
       "      <td>0.526185</td>\n",
       "      <td>-0.966486</td>\n",
       "      <td>-0.248393</td>\n",
       "      <td>0.056095</td>\n",
       "    </tr>\n",
       "    <tr>\n",
       "      <th>2013-01-03</th>\n",
       "      <td>1.799883</td>\n",
       "      <td>-0.359989</td>\n",
       "      <td>2.003893</td>\n",
       "      <td>-1.268344</td>\n",
       "    </tr>\n",
       "    <tr>\n",
       "      <th>2013-01-05</th>\n",
       "      <td>0.277236</td>\n",
       "      <td>-1.940750</td>\n",
       "      <td>-1.519530</td>\n",
       "      <td>-0.774743</td>\n",
       "    </tr>\n",
       "    <tr>\n",
       "      <th>2013-01-06</th>\n",
       "      <td>0.036332</td>\n",
       "      <td>0.148495</td>\n",
       "      <td>-0.334721</td>\n",
       "      <td>-0.183687</td>\n",
       "    </tr>\n",
       "  </tbody>\n",
       "</table>\n",
       "</div>"
      ],
      "text/plain": [
       "                   A         B         C         D\n",
       "2013-01-01  0.526185 -0.966486 -0.248393  0.056095\n",
       "2013-01-03  1.799883 -0.359989  2.003893 -1.268344\n",
       "2013-01-05  0.277236 -1.940750 -1.519530 -0.774743\n",
       "2013-01-06  0.036332  0.148495 -0.334721 -0.183687"
      ]
     },
     "execution_count": 38,
     "metadata": {},
     "output_type": "execute_result"
    }
   ],
   "source": [
    "df[df.A > 0]"
   ]
  },
  {
   "cell_type": "code",
   "execution_count": 39,
   "metadata": {},
   "outputs": [
    {
     "data": {
      "text/html": [
       "<div>\n",
       "<style scoped>\n",
       "    .dataframe tbody tr th:only-of-type {\n",
       "        vertical-align: middle;\n",
       "    }\n",
       "\n",
       "    .dataframe tbody tr th {\n",
       "        vertical-align: top;\n",
       "    }\n",
       "\n",
       "    .dataframe thead th {\n",
       "        text-align: right;\n",
       "    }\n",
       "</style>\n",
       "<table border=\"1\" class=\"dataframe\">\n",
       "  <thead>\n",
       "    <tr style=\"text-align: right;\">\n",
       "      <th></th>\n",
       "      <th>A</th>\n",
       "      <th>B</th>\n",
       "      <th>C</th>\n",
       "      <th>D</th>\n",
       "    </tr>\n",
       "  </thead>\n",
       "  <tbody>\n",
       "    <tr>\n",
       "      <th>2013-01-01</th>\n",
       "      <td>0.526185</td>\n",
       "      <td>NaN</td>\n",
       "      <td>NaN</td>\n",
       "      <td>0.056095</td>\n",
       "    </tr>\n",
       "    <tr>\n",
       "      <th>2013-01-02</th>\n",
       "      <td>NaN</td>\n",
       "      <td>0.068979</td>\n",
       "      <td>NaN</td>\n",
       "      <td>NaN</td>\n",
       "    </tr>\n",
       "    <tr>\n",
       "      <th>2013-01-03</th>\n",
       "      <td>1.799883</td>\n",
       "      <td>NaN</td>\n",
       "      <td>2.003893</td>\n",
       "      <td>NaN</td>\n",
       "    </tr>\n",
       "    <tr>\n",
       "      <th>2013-01-04</th>\n",
       "      <td>NaN</td>\n",
       "      <td>NaN</td>\n",
       "      <td>0.965546</td>\n",
       "      <td>NaN</td>\n",
       "    </tr>\n",
       "    <tr>\n",
       "      <th>2013-01-05</th>\n",
       "      <td>0.277236</td>\n",
       "      <td>NaN</td>\n",
       "      <td>NaN</td>\n",
       "      <td>NaN</td>\n",
       "    </tr>\n",
       "    <tr>\n",
       "      <th>2013-01-06</th>\n",
       "      <td>0.036332</td>\n",
       "      <td>0.148495</td>\n",
       "      <td>NaN</td>\n",
       "      <td>NaN</td>\n",
       "    </tr>\n",
       "  </tbody>\n",
       "</table>\n",
       "</div>"
      ],
      "text/plain": [
       "                   A         B         C         D\n",
       "2013-01-01  0.526185       NaN       NaN  0.056095\n",
       "2013-01-02       NaN  0.068979       NaN       NaN\n",
       "2013-01-03  1.799883       NaN  2.003893       NaN\n",
       "2013-01-04       NaN       NaN  0.965546       NaN\n",
       "2013-01-05  0.277236       NaN       NaN       NaN\n",
       "2013-01-06  0.036332  0.148495       NaN       NaN"
      ]
     },
     "execution_count": 39,
     "metadata": {},
     "output_type": "execute_result"
    }
   ],
   "source": [
    "df[df > 0]"
   ]
  },
  {
   "cell_type": "markdown",
   "metadata": {},
   "source": [
    "\n",
    "Los usuarios acostumbrados al manejo de SQL echarán en falta funciones que\n",
    "permitan cruzar dos DataFrames. Afortunadamente, Pandas nos proporciona la\n",
    "función join() para este propósito."
   ]
  },
  {
   "cell_type": "code",
   "execution_count": 46,
   "metadata": {},
   "outputs": [
    {
     "data": {
      "text/html": [
       "<div>\n",
       "<style scoped>\n",
       "    .dataframe tbody tr th:only-of-type {\n",
       "        vertical-align: middle;\n",
       "    }\n",
       "\n",
       "    .dataframe tbody tr th {\n",
       "        vertical-align: top;\n",
       "    }\n",
       "\n",
       "    .dataframe thead th {\n",
       "        text-align: right;\n",
       "    }\n",
       "</style>\n",
       "<table border=\"1\" class=\"dataframe\">\n",
       "  <thead>\n",
       "    <tr style=\"text-align: right;\">\n",
       "      <th></th>\n",
       "      <th>key</th>\n",
       "      <th>lval</th>\n",
       "    </tr>\n",
       "  </thead>\n",
       "  <tbody>\n",
       "    <tr>\n",
       "      <th>0</th>\n",
       "      <td>foo</td>\n",
       "      <td>1</td>\n",
       "    </tr>\n",
       "    <tr>\n",
       "      <th>1</th>\n",
       "      <td>foo</td>\n",
       "      <td>2</td>\n",
       "    </tr>\n",
       "  </tbody>\n",
       "</table>\n",
       "</div>"
      ],
      "text/plain": [
       "   key  lval\n",
       "0  foo     1\n",
       "1  foo     2"
      ]
     },
     "execution_count": 46,
     "metadata": {},
     "output_type": "execute_result"
    }
   ],
   "source": [
    "left = pd.DataFrame({'key':['foo', 'foo'], 'lval':[1, 2]})\n",
    "\n",
    "right = pd.DataFrame({'key':['foo', 'foo'], 'rval':[4, 5]})\n",
    "\n",
    "left\n",
    "\n"
   ]
  },
  {
   "cell_type": "code",
   "execution_count": 47,
   "metadata": {},
   "outputs": [
    {
     "data": {
      "text/html": [
       "<div>\n",
       "<style scoped>\n",
       "    .dataframe tbody tr th:only-of-type {\n",
       "        vertical-align: middle;\n",
       "    }\n",
       "\n",
       "    .dataframe tbody tr th {\n",
       "        vertical-align: top;\n",
       "    }\n",
       "\n",
       "    .dataframe thead th {\n",
       "        text-align: right;\n",
       "    }\n",
       "</style>\n",
       "<table border=\"1\" class=\"dataframe\">\n",
       "  <thead>\n",
       "    <tr style=\"text-align: right;\">\n",
       "      <th></th>\n",
       "      <th>key</th>\n",
       "      <th>rval</th>\n",
       "    </tr>\n",
       "  </thead>\n",
       "  <tbody>\n",
       "    <tr>\n",
       "      <th>0</th>\n",
       "      <td>foo</td>\n",
       "      <td>4</td>\n",
       "    </tr>\n",
       "    <tr>\n",
       "      <th>1</th>\n",
       "      <td>foo</td>\n",
       "      <td>5</td>\n",
       "    </tr>\n",
       "  </tbody>\n",
       "</table>\n",
       "</div>"
      ],
      "text/plain": [
       "   key  rval\n",
       "0  foo     4\n",
       "1  foo     5"
      ]
     },
     "execution_count": 47,
     "metadata": {},
     "output_type": "execute_result"
    }
   ],
   "source": [
    "right"
   ]
  },
  {
   "cell_type": "code",
   "execution_count": 48,
   "metadata": {},
   "outputs": [
    {
     "data": {
      "text/html": [
       "<div>\n",
       "<style scoped>\n",
       "    .dataframe tbody tr th:only-of-type {\n",
       "        vertical-align: middle;\n",
       "    }\n",
       "\n",
       "    .dataframe tbody tr th {\n",
       "        vertical-align: top;\n",
       "    }\n",
       "\n",
       "    .dataframe thead th {\n",
       "        text-align: right;\n",
       "    }\n",
       "</style>\n",
       "<table border=\"1\" class=\"dataframe\">\n",
       "  <thead>\n",
       "    <tr style=\"text-align: right;\">\n",
       "      <th></th>\n",
       "      <th>key</th>\n",
       "      <th>lval</th>\n",
       "      <th>rval</th>\n",
       "    </tr>\n",
       "  </thead>\n",
       "  <tbody>\n",
       "    <tr>\n",
       "      <th>0</th>\n",
       "      <td>foo</td>\n",
       "      <td>1</td>\n",
       "      <td>4</td>\n",
       "    </tr>\n",
       "    <tr>\n",
       "      <th>1</th>\n",
       "      <td>foo</td>\n",
       "      <td>1</td>\n",
       "      <td>5</td>\n",
       "    </tr>\n",
       "    <tr>\n",
       "      <th>2</th>\n",
       "      <td>foo</td>\n",
       "      <td>2</td>\n",
       "      <td>4</td>\n",
       "    </tr>\n",
       "    <tr>\n",
       "      <th>3</th>\n",
       "      <td>foo</td>\n",
       "      <td>2</td>\n",
       "      <td>5</td>\n",
       "    </tr>\n",
       "  </tbody>\n",
       "</table>\n",
       "</div>"
      ],
      "text/plain": [
       "   key  lval  rval\n",
       "0  foo     1     4\n",
       "1  foo     1     5\n",
       "2  foo     2     4\n",
       "3  foo     2     5"
      ]
     },
     "execution_count": 48,
     "metadata": {},
     "output_type": "execute_result"
    }
   ],
   "source": [
    "pd.merge(left, right, on='key')"
   ]
  },
  {
   "cell_type": "markdown",
   "metadata": {},
   "source": [
    "Y también tenemos la posibilidad de ejecutar funciones de agrupación al estilo de\n",
    "SQL como se muestra en este ejemplo."
   ]
  },
  {
   "cell_type": "code",
   "execution_count": 59,
   "metadata": {},
   "outputs": [
    {
     "data": {
      "text/html": [
       "<div>\n",
       "<style scoped>\n",
       "    .dataframe tbody tr th:only-of-type {\n",
       "        vertical-align: middle;\n",
       "    }\n",
       "\n",
       "    .dataframe tbody tr th {\n",
       "        vertical-align: top;\n",
       "    }\n",
       "\n",
       "    .dataframe thead th {\n",
       "        text-align: right;\n",
       "    }\n",
       "</style>\n",
       "<table border=\"1\" class=\"dataframe\">\n",
       "  <thead>\n",
       "    <tr style=\"text-align: right;\">\n",
       "      <th></th>\n",
       "      <th>A</th>\n",
       "      <th>B</th>\n",
       "      <th>C</th>\n",
       "      <th>D</th>\n",
       "    </tr>\n",
       "  </thead>\n",
       "  <tbody>\n",
       "    <tr>\n",
       "      <th>0</th>\n",
       "      <td>foo</td>\n",
       "      <td>one</td>\n",
       "      <td>-1.100562</td>\n",
       "      <td>0.862082</td>\n",
       "    </tr>\n",
       "    <tr>\n",
       "      <th>1</th>\n",
       "      <td>bar</td>\n",
       "      <td>one</td>\n",
       "      <td>0.842280</td>\n",
       "      <td>1.238152</td>\n",
       "    </tr>\n",
       "    <tr>\n",
       "      <th>2</th>\n",
       "      <td>foo</td>\n",
       "      <td>two</td>\n",
       "      <td>0.004561</td>\n",
       "      <td>0.179332</td>\n",
       "    </tr>\n",
       "    <tr>\n",
       "      <th>3</th>\n",
       "      <td>bar</td>\n",
       "      <td>three</td>\n",
       "      <td>2.478777</td>\n",
       "      <td>-0.744777</td>\n",
       "    </tr>\n",
       "    <tr>\n",
       "      <th>4</th>\n",
       "      <td>foo</td>\n",
       "      <td>two</td>\n",
       "      <td>2.184070</td>\n",
       "      <td>-0.360002</td>\n",
       "    </tr>\n",
       "    <tr>\n",
       "      <th>5</th>\n",
       "      <td>bar</td>\n",
       "      <td>two</td>\n",
       "      <td>1.012906</td>\n",
       "      <td>-0.640366</td>\n",
       "    </tr>\n",
       "    <tr>\n",
       "      <th>6</th>\n",
       "      <td>foo</td>\n",
       "      <td>one</td>\n",
       "      <td>-0.756603</td>\n",
       "      <td>-0.122523</td>\n",
       "    </tr>\n",
       "    <tr>\n",
       "      <th>7</th>\n",
       "      <td>foo</td>\n",
       "      <td>three</td>\n",
       "      <td>0.594023</td>\n",
       "      <td>0.823292</td>\n",
       "    </tr>\n",
       "  </tbody>\n",
       "</table>\n",
       "</div>"
      ],
      "text/plain": [
       "     A      B         C         D\n",
       "0  foo    one -1.100562  0.862082\n",
       "1  bar    one  0.842280  1.238152\n",
       "2  foo    two  0.004561  0.179332\n",
       "3  bar  three  2.478777 -0.744777\n",
       "4  foo    two  2.184070 -0.360002\n",
       "5  bar    two  1.012906 -0.640366\n",
       "6  foo    one -0.756603 -0.122523\n",
       "7  foo  three  0.594023  0.823292"
      ]
     },
     "execution_count": 59,
     "metadata": {},
     "output_type": "execute_result"
    }
   ],
   "source": [
    "import numpy as np\n",
    "import pandas as pd\n",
    "\n",
    "df = pd.DataFrame({'A' : ['foo','bar', 'foo', 'bar', 'foo', 'bar', 'foo', 'foo'],                           \n",
    "                            'B' : ['one', 'one', 'two', 'three', 'two', 'two', 'one', 'three'],\n",
    "                            'C' : np.random.randn(8),\n",
    "                            'D' : np.random.randn(8)})\n",
    "df"
   ]
  },
  {
   "cell_type": "code",
   "execution_count": 61,
   "metadata": {},
   "outputs": [
    {
     "data": {
      "text/html": [
       "<div>\n",
       "<style scoped>\n",
       "    .dataframe tbody tr th:only-of-type {\n",
       "        vertical-align: middle;\n",
       "    }\n",
       "\n",
       "    .dataframe tbody tr th {\n",
       "        vertical-align: top;\n",
       "    }\n",
       "\n",
       "    .dataframe thead th {\n",
       "        text-align: right;\n",
       "    }\n",
       "</style>\n",
       "<table border=\"1\" class=\"dataframe\">\n",
       "  <thead>\n",
       "    <tr style=\"text-align: right;\">\n",
       "      <th></th>\n",
       "      <th>C</th>\n",
       "      <th>D</th>\n",
       "    </tr>\n",
       "    <tr>\n",
       "      <th>A</th>\n",
       "      <th></th>\n",
       "      <th></th>\n",
       "    </tr>\n",
       "  </thead>\n",
       "  <tbody>\n",
       "    <tr>\n",
       "      <th>bar</th>\n",
       "      <td>4.333964</td>\n",
       "      <td>-0.146991</td>\n",
       "    </tr>\n",
       "    <tr>\n",
       "      <th>foo</th>\n",
       "      <td>0.925489</td>\n",
       "      <td>1.382181</td>\n",
       "    </tr>\n",
       "  </tbody>\n",
       "</table>\n",
       "</div>"
      ],
      "text/plain": [
       "            C         D\n",
       "A                      \n",
       "bar  4.333964 -0.146991\n",
       "foo  0.925489  1.382181"
      ]
     },
     "execution_count": 61,
     "metadata": {},
     "output_type": "execute_result"
    }
   ],
   "source": [
    "df.groupby('A').sum()"
   ]
  },
  {
   "cell_type": "markdown",
   "metadata": {},
   "source": [
    "Como podemos apreciar, Pandas es una librería versátil, práctica y útil. Su dominio es\n",
    "indispensable. Por eso insistimos en la importancia de probar y validar todo el código\n",
    "aquí mostrado intentando insertar variaciones y nuevas pruebas.\n",
    "\n",
    "## Regresión lineal con Python\n",
    "\n",
    "Para finalizar el tema, proponemos un ejemplo sencillo de un modelo de regresión\n",
    "lineal con Python. Nos apoyamos en este caso en la funcionalidad de la librería\n",
    "Sklearn. El modelo que vamos a ver emplea una aproximación por el método de los\n",
    "mínimos cuadrados. El objetivo es intentar obtener la ecuación lineal que minimiza\n",
    "el error cuadrático. Esta ecuación constará de una variable dependiente y un\n",
    "conjunto de variables independientes. Para cada x se obtendrá un error concreto\n",
    "considerando la distancia existente entre el punto marcado por la recta y el valor real.\n",
    "\n",
    "Tomar potencias de dos nos ayuda a considerar el conjunto de todos los errores sin\n",
    "tener en cuenta si el valor real está por encima o debajo de la recta."
   ]
  },
  {
   "cell_type": "code",
   "execution_count": 67,
   "metadata": {},
   "outputs": [
    {
     "name": "stdout",
     "output_type": "stream",
     "text": [
      "Automatically created module for IPython interactive environment\n"
     ]
    }
   ],
   "source": [
    "print(__doc__)\n",
    "\n",
    "import matplotlib.pyplot as plt\n",
    "import numpy as np\n",
    "from sklearn import datasets, linear_model\n",
    "from sklearn.metrics import mean_squared_error, r2_score\n",
    "\n",
    "# Load the diabetes dataset \n",
    "diabetes = datasets.load_diabetes()\n",
    "\n",
    "# User only one feature\n",
    "diabetes_x = diabetes.data[:, np.newaxis, 2]\n",
    "\n",
    "#split the data into training/testing sets \n",
    "diabetes_x_train = diabetes_x[:-20]\n",
    "diabetes_x_test = diabetes_x[-20:]\n",
    "\n",
    "#split the targets into train/testing sets\n",
    "diabetes_y_train = diabetes.target[:-20]\n",
    "diabetes_y_test = diabetes.target[-20:]\n",
    "\n",
    "\n"
   ]
  },
  {
   "cell_type": "markdown",
   "metadata": {},
   "source": [
    "En el código anterior se realiza un paso muy importante además de cargar el modelo.\n",
    "Si nos fijamos, se separa el conjunto de datos previos en un conjunto de\n",
    "entrenamiento y un conjunto de test, el primero suele ser más amplio que el\n",
    "segundo.\n",
    "Por ejemplo, el conjunto de training podría contener el 70 u 80 % de la muestra,\n",
    "dejando el resto al conjunto de test. Sin embargo, estos porcentajes no son ciencia\n",
    "cierta, pues existen diversas casuísticas en las que pueden ser recomendables otras\n",
    "formas de distribuir los datos. Se trata esta de una estrategia muy importante en\n",
    "aprendizaje automático que será explicada con detalle en diferentes asignaturas y\n",
    "puntos del programa.\n",
    "\n",
    "Se emplea el conjunto de entrenamiento para obtener el modelo. Este modelo se\n",
    "prueba sobre el conjunto de test. De esta forma sometemos al modelo a un punto de\n",
    "revisión adicional al considerar su rendimiento sobre unos datos que no son los\n",
    "empleados para aprender sus parámetros.\n",
    "\n",
    "\n",
    "Podría ponerse una analogía con un examen de matemática en el colegio. Los\n",
    "alumnos aprenden la lección en base a una serie de ejercicios prácticos. Si en\n",
    "el examen, el profesor plantea exactamente los mismos ejercicios, no podrá\n",
    "distinguir entre los alumnos que han comprendido la lección y los que han\n",
    "memorizado las respuestas a los ejercicios. Por ello, el profesor propone unos\n",
    "ejercicios «parecidos» a los tratados en clase pero, al mismo tiempo, distintos."
   ]
  },
  {
   "cell_type": "code",
   "execution_count": 74,
   "metadata": {},
   "outputs": [
    {
     "name": "stdout",
     "output_type": "stream",
     "text": [
      "Coefficients: \n",
      " [938.23786125]\n",
      "Mean squared error: 2548.07\n",
      "Variance score: 0.47\n"
     ]
    },
    {
     "data": {
      "image/png": "[encoded data removed]",
      "text/plain": [
       "<Figure size 432x288 with 1 Axes>"
      ]
     },
     "metadata": {},
     "output_type": "display_data"
    }
   ],
   "source": [
    "#create linear regression object\n",
    "regr = linear_model.LinearRegression()\n",
    "\n",
    "#train the model using the trainig sets\n",
    "regr.fit(diabetes_x_train, diabetes_y_train)\n",
    "\n",
    "# make prediccion using the testing set\n",
    "diabetes_y_pred = regr.predict(diabetes_x_test)\n",
    "\n",
    "#the coefficients\n",
    "print('Coefficients: \\n', regr.coef_)\n",
    "#the mean squared error\n",
    "print(\"Mean squared error: %.2f\"\n",
    "    % mean_squared_error(diabetes_y_test, diabetes_y_pred))\n",
    "#Explained Variance score: 1 is perfect predictiion\n",
    "print('Variance score: %.2f' % r2_score(diabetes_y_test, diabetes_y_pred))\n",
    "\n",
    "# plot outputs\n",
    "plt.scatter(diabetes_x_test, diabetes_y_test, color='black')\n",
    "plt.plot(diabetes_x_test, diabetes_y_pred, color='blue', linewidth=3)\n",
    "\n",
    "plt.xticks(())\n",
    "plt.yticks(())\n",
    "\n",
    "plt.show()\n",
    "\n"
   ]
  },
  {
   "cell_type": "code",
   "execution_count": null,
   "metadata": {},
   "outputs": [],
   "source": []
  }
 ],
 "metadata": {
  "kernelspec": {
   "display_name": "Python 3",
   "language": "python",
   "name": "python3"
  },
  "language_info": {
   "codemirror_mode": {
    "name": "ipython",
    "version": 3
   },
   "file_extension": ".py",
   "mimetype": "text/x-python",
   "name": "python",
   "nbconvert_exporter": "python",
   "pygments_lexer": "ipython3",
   "version": "3.7.6"
  }
 },
 "nbformat": 4,
 "nbformat_minor": 4
}
