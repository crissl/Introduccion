{
 "cells": [
  {
   "cell_type": "markdown",
   "metadata": {},
   "source": [
    "#  NumPy\n",
    "NumPy es una librería diseñada para el cálculo científico y las operaciones\n",
    "matemáticas con estructuras de datos matriciales. Guarda algunas semejanzas con\n",
    "software de parecidos propósitos como MATLAB. Al igual que se hizo en el tema\n",
    "anterior, ilustraremos el uso de esta librería con ejemplos varios."
   ]
  },
  {
   "cell_type": "code",
   "execution_count": 1,
   "metadata": {},
   "outputs": [
    {
     "name": "stdout",
     "output_type": "stream",
     "text": [
      "numpy_version: 1.18.1\n"
     ]
    }
   ],
   "source": [
    "import numpy as np\n",
    "print ('numpy_version:', np.__version__)"
   ]
  },
  {
   "cell_type": "markdown",
   "metadata": {},
   "source": [
    "NumPy es una librería diseñada para trabajar con vectores multidimensionales. Los\n",
    "valores almacenados en la estructura de datos deben ser todos del mismo tipo. Las\n",
    "dimensiones de la estructura de datos reciben el nombre de “axes”. Funciones útiles\n",
    "para probar esta librería son:"
   ]
  },
  {
   "cell_type": "markdown",
   "metadata": {},
   "source": [
    "* ndarray.ndim – número de dimensiones de la estructura vectorial.\n",
    "* ndarray.shape – muestra las dimensiones del vector.\n",
    "* ndarray.size – devuelve el número total de elementos.\n",
    "* ndarray.dtype – devuelve el tipo de los valores contenidos en el vector.\n",
    "* ndarray.itemsize – devuelve el tamaño en bytes de los elementos del vector\n",
    "\n",
    "teniendo en cuenta su tipo."
   ]
  },
  {
   "cell_type": "code",
   "execution_count": 6,
   "metadata": {},
   "outputs": [
    {
     "name": "stdout",
     "output_type": "stream",
     "text": [
      "Filas:003; Columnas:003\n",
      "[[ 0  1  2  3]\n",
      " [ 4  5  6  7]\n",
      " [ 8  9 10 11]]\n"
     ]
    }
   ],
   "source": [
    "import numpy as np\n",
    "\n",
    "a = np.array([[0,1,2,3],[4,5,6,7],[8,9,10,11]])\n",
    "Filas, Columnas = np.shape(a)\n",
    "print('Filas:{0:03d}; Columnas:{0:03d}'.format(Filas, Columnas))# aqui imprimiremos el numero de filas y columnas\n",
    "print(a)"
   ]
  },
  {
   "cell_type": "code",
   "execution_count": null,
   "metadata": {},
   "outputs": [],
   "source": [
    "Podemos contemplar una gran variedad de tipos en los elementos del vector, incluso\n",
    "valores complejos.\n"
   ]
  },
  {
   "cell_type": "code",
   "execution_count": 9,
   "metadata": {},
   "outputs": [
    {
     "name": "stdout",
     "output_type": "stream",
     "text": [
      "[[2.+0.j 3.+0.j]\n",
      " [6.+0.j 7.+0.j]]\n"
     ]
    }
   ],
   "source": [
    "import numpy as np\n",
    "\n",
    "b = np.array([[2,3],[6,7]], dtype = np.complex64)\n",
    "print (b)"
   ]
  },
  {
   "cell_type": "markdown",
   "metadata": {},
   "source": [
    "En ocasiones es de especial utilidad inicializar vectores de unas dimensiones\n",
    "concretas a un valor que puede ser una constante como 0 o 1, o números aleatorios."
   ]
  },
  {
   "cell_type": "code",
   "execution_count": 12,
   "metadata": {},
   "outputs": [
    {
     "data": {
      "text/plain": [
       "array([[0., 0., 0., 0.],\n",
       "       [0., 0., 0., 0.],\n",
       "       [0., 0., 0., 0.]])"
      ]
     },
     "execution_count": 12,
     "metadata": {},
     "output_type": "execute_result"
    }
   ],
   "source": [
    "import numpy as np\n",
    "\n",
    "np.zeros((3,4))\n",
    "\n"
   ]
  },
  {
   "cell_type": "markdown",
   "metadata": {},
   "source": [
    "La figura siguiente muestra ejemplos de otras funciones, se copia tipos y dimensiones\n",
    "en el primer caso, valores vacíos en el segundo caso (y se muestran los valores que\n",
    "existan en la memoria en ese momento) y, por último, una matriz con unos en la\n",
    "diagonal principal y ceros en el resto."
   ]
  },
  {
   "cell_type": "code",
   "execution_count": 13,
   "metadata": {},
   "outputs": [
    {
     "data": {
      "text/plain": [
       "array([[0.+0.j, 0.+0.j],\n",
       "       [0.+0.j, 0.+0.j]], dtype=complex64)"
      ]
     },
     "execution_count": 13,
     "metadata": {},
     "output_type": "execute_result"
    }
   ],
   "source": [
    "import numpy as np\n",
    "\n",
    "np.zeros_like(b)\n"
   ]
  },
  {
   "cell_type": "code",
   "execution_count": 15,
   "metadata": {},
   "outputs": [
    {
     "data": {
      "text/plain": [
       "array([[2.12199579e-314, 6.36598737e-314, 1.06099790e-313],\n",
       "       [1.48539705e-313, 1.90979621e-313, 2.33419537e-313]])"
      ]
     },
     "execution_count": 15,
     "metadata": {},
     "output_type": "execute_result"
    }
   ],
   "source": [
    "import numpy as np\n",
    "\n",
    "np.empty((2, 3))"
   ]
  },
  {
   "cell_type": "code",
   "execution_count": 16,
   "metadata": {},
   "outputs": [
    {
     "data": {
      "text/plain": [
       "array([[1., 0., 0.],\n",
       "       [0., 1., 0.],\n",
       "       [0., 0., 1.]])"
      ]
     },
     "execution_count": 16,
     "metadata": {},
     "output_type": "execute_result"
    }
   ],
   "source": [
    "import numpy as np\n",
    "\n",
    "np.eye(3)"
   ]
  },
  {
   "cell_type": "markdown",
   "metadata": {},
   "source": [
    "Prueba ahora a ejecutar en tu equipo el siguiente código e intenta determinar\n",
    "la función de cada uno:"
   ]
  },
  {
   "cell_type": "code",
   "execution_count": 17,
   "metadata": {},
   "outputs": [
    {
     "data": {
      "text/plain": [
       "array([[0, 0, 0, 0, 0],\n",
       "       [0, 1, 0, 0, 0],\n",
       "       [0, 0, 2, 0, 0],\n",
       "       [0, 0, 0, 3, 0],\n",
       "       [0, 0, 0, 0, 4]])"
      ]
     },
     "execution_count": 17,
     "metadata": {},
     "output_type": "execute_result"
    }
   ],
   "source": [
    "import numpy as np\n",
    "\n",
    "np.diag(np.arange(5))#imprimira de manera diagonal segun el rango"
   ]
  },
  {
   "cell_type": "code",
   "execution_count": 18,
   "metadata": {},
   "outputs": [
    {
     "data": {
      "text/plain": [
       "array([0, 1, 2, 3, 4])"
      ]
     },
     "execution_count": 18,
     "metadata": {},
     "output_type": "execute_result"
    }
   ],
   "source": [
    "import numpy as np\n",
    "\n",
    "np.arange(5)# imprime el rango pero solo ina fila"
   ]
  },
  {
   "cell_type": "code",
   "execution_count": 23,
   "metadata": {},
   "outputs": [
    {
     "data": {
      "text/plain": [
       "array([[6, 7, 6, 7],\n",
       "       [8, 9, 8, 9],\n",
       "       [6, 7, 6, 7],\n",
       "       [8, 9, 8, 9]])"
      ]
     },
     "execution_count": 23,
     "metadata": {},
     "output_type": "execute_result"
    }
   ],
   "source": [
    "import numpy as np\n",
    "\n",
    "np.tile(np.array([[6, 7],[8, 9]]), (2, 2))"
   ]
  },
  {
   "cell_type": "markdown",
   "metadata": {},
   "source": [
    "np.arange() es una función habitual para crear secuencias numéricas. reshape() es\n",
    "útil para ajustar las dimensiones de la estructura. La siguiente imagen muestra un\n",
    "ejemplo:"
   ]
  },
  {
   "cell_type": "code",
   "execution_count": 25,
   "metadata": {},
   "outputs": [
    {
     "name": "stdout",
     "output_type": "stream",
     "text": [
      "[[0 1]\n",
      " [2 3]]\n"
     ]
    }
   ],
   "source": [
    "import numpy as np\n",
    "\n",
    "x = np.arange(4).reshape(2,2)\n",
    "print(x)"
   ]
  },
  {
   "cell_type": "markdown",
   "metadata": {},
   "source": [
    "No es necesario especificar los valores del vector uno a uno, también es posible\n",
    "recurrir a generadores como el siguiente."
   ]
  },
  {
   "cell_type": "code",
   "execution_count": 27,
   "metadata": {},
   "outputs": [
    {
     "name": "stdout",
     "output_type": "stream",
     "text": [
      "[[ 0  1  2]\n",
      " [10 11 12]\n",
      " [20 21 22]\n",
      " [30 31 32]]\n"
     ]
    }
   ],
   "source": [
    "# Generar una matriz\n",
    "c = np.array([[10*j+i for i in range(3)] for j in range(4)])\n",
    "print(c)"
   ]
  },
  {
   "cell_type": "markdown",
   "metadata": {},
   "source": [
    "Para añadir una nueva dimensión o convertir un vector fila en columna, utilizamos\n",
    "las siguientes funciones:"
   ]
  },
  {
   "cell_type": "code",
   "execution_count": 30,
   "metadata": {},
   "outputs": [
    {
     "name": "stdout",
     "output_type": "stream",
     "text": [
      "[ 0.  3.  6.  9. 12.]\n",
      "[[ 0.]\n",
      " [ 3.]\n",
      " [ 6.]\n",
      " [ 9.]\n",
      " [12.]]\n"
     ]
    }
   ],
   "source": [
    "#genera 5 puntos equiespaciados en tre 0 y 12\n",
    "d = np.linspace(0, 12, 5)\n",
    "print(d)\n",
    "print(d[:, np.newaxis])"
   ]
  },
  {
   "cell_type": "markdown",
   "metadata": {},
   "source": [
    "**MATLAB** ha sido uno de los lenguajes de referencia para el cálculo matricial. La\n",
    "función de grid de MATLAB activa líneas de cuadrícula genérico en 2-D cuando se\n",
    "pretende dibujar una zona del espacio. Con la función meshgrid de MATLAB el usuario\n",
    "determina completamente las líneas de cuadrícula horizontales y verticales que\n",
    "aparecen en una gráfica. En Python, esta función encuentra su equivalente con el\n",
    "ejemplo de debajo:\n",
    "\n"
   ]
  },
  {
   "cell_type": "code",
   "execution_count": 4,
   "metadata": {},
   "outputs": [
    {
     "name": "stdout",
     "output_type": "stream",
     "text": [
      "[[0 0 0 0 0]\n",
      " [1 1 1 1 1]\n",
      " [2 2 2 2 2]\n",
      " [3 3 3 3 3]\n",
      " [4 4 4 4 4]]\n",
      "--------\n",
      "[[0 1 2 3 4]\n",
      " [0 1 2 3 4]\n",
      " [0 1 2 3 4]\n",
      " [0 1 2 3 4]\n",
      " [0 1 2 3 4]]\n"
     ]
    }
   ],
   "source": [
    "import numpy as np\n",
    "\n",
    "x, y = np.mgrid[0:5, 0:5]\n",
    "print(x)\n",
    "print(\"--------\")\n",
    "print(y)\n"
   ]
  },
  {
   "cell_type": "markdown",
   "metadata": {},
   "source": [
    "En diversas situaciones, se generan matrices de dimensión considerable donde la\n",
    "mayor parte de los valores son cero. Almacenar dicha información según los\n",
    "procedimientos habituales sería ineficiente debido a que almacenaría un gran\n",
    "número de nulos (la inmensa mayoría). Por ello surgen estructuras de datos\n",
    "particulares para este caso."
   ]
  },
  {
   "cell_type": "code",
   "execution_count": 37,
   "metadata": {},
   "outputs": [
    {
     "name": "stdout",
     "output_type": "stream",
     "text": [
      "[[0.         0.         0.         0.         0.90015968 0.        ]\n",
      " [0.         0.95966101 0.         0.         0.         0.        ]\n",
      " [0.92649017 0.         0.         0.         0.         0.94154629]\n",
      " [0.         0.         0.         0.         0.         0.        ]\n",
      " [0.         0.         0.         0.         0.         0.90897516]]\n",
      "  (0, 4)\t0.9001596834826076\n",
      "  (1, 1)\t0.9596610139968158\n",
      "  (2, 0)\t0.9264901712574322\n",
      "  (2, 5)\t0.9415462944696401\n",
      "  (4, 5)\t0.9089751574841473\n"
     ]
    }
   ],
   "source": [
    "\n",
    "from scipy import sparse\n",
    "X = np.random.random((5, 6))\n",
    "X[X < 0.85] = 0\n",
    "print (X)\n",
    "X_csr = sparse.csr_matrix(X)\n",
    "print (X_csr)\n"
   ]
  },
  {
   "cell_type": "code",
   "execution_count": 35,
   "metadata": {},
   "outputs": [
    {
     "name": "stdout",
     "output_type": "stream",
     "text": [
      "[[0.         0.         0.         0.86433735 0.         0.        ]\n",
      " [0.97981194 0.         0.         0.         0.         0.        ]\n",
      " [0.         0.         0.         0.         0.         0.        ]\n",
      " [0.         0.         0.         0.         0.         0.95962266]\n",
      " [0.         0.         0.         0.         0.         0.        ]]\n"
     ]
    }
   ],
   "source": [
    "print(x_csr.toarray())"
   ]
  },
  {
   "cell_type": "markdown",
   "metadata": {},
   "source": [
    "# Inicialización de matrices con números aleatorios.\n",
    "NumPy permite la generación de números aleatorios en base a una semilla\n",
    "previamente especificada. Aunque no es obligatorio, fijar de forma previa la semilla\n",
    "es útil para conseguir la replicabilidad de los resultados."
   ]
  },
  {
   "cell_type": "code",
   "execution_count": 11,
   "metadata": {},
   "outputs": [
    {
     "data": {
      "text/plain": [
       "array([[0.92961609, 0.31637555, 0.18391881, 0.20456028, 0.56772503],\n",
       "       [0.5955447 , 0.96451452, 0.6531771 , 0.74890664, 0.65356987],\n",
       "       [0.74771481, 0.96130674, 0.0083883 , 0.10644438, 0.29870371],\n",
       "       [0.65641118, 0.80981255, 0.87217591, 0.9646476 , 0.72368535]])"
      ]
     },
     "execution_count": 11,
     "metadata": {},
     "output_type": "execute_result"
    }
   ],
   "source": [
    "np.random.seed(12345)\n",
    "np.random.rand(4,5)"
   ]
  },
  {
   "cell_type": "code",
   "execution_count": 12,
   "metadata": {},
   "outputs": [
    {
     "data": {
      "text/plain": [
       "array([[ 1.35291684e+00,  8.86429341e-01, -2.00163731e+00,\n",
       "        -3.71842537e-01,  1.66902531e+00],\n",
       "       [-4.38569736e-01, -5.39741446e-01,  4.76985010e-01,\n",
       "         3.24894392e+00, -1.02122752e+00],\n",
       "       [-5.77087303e-01,  1.24121276e-01,  3.02613562e-01,\n",
       "         5.23772068e-01,  9.40277775e-04],\n",
       "       [ 1.34380979e+00, -7.13543985e-01, -8.31153539e-01,\n",
       "        -2.37023165e+00, -1.86076079e+00]])"
      ]
     },
     "execution_count": 12,
     "metadata": {},
     "output_type": "execute_result"
    }
   ],
   "source": [
    "np.random.randn(4,5)"
   ]
  },
  {
   "cell_type": "markdown",
   "metadata": {},
   "source": [
    "En otras ocasiones, es útil realizar ciertas transformaciones de tipos, pasar de decimal\n",
    "en coma flotante a entero, de entero a carácter, etc. También podemos necesitar\n",
    "redondear un número.\n",
    "\n",
    "# Cambio de tipos y redondeo."
   ]
  },
  {
   "cell_type": "code",
   "execution_count": 14,
   "metadata": {},
   "outputs": [
    {
     "data": {
      "text/plain": [
       "array([1, 1, 1])"
      ]
     },
     "execution_count": 14,
     "metadata": {},
     "output_type": "execute_result"
    }
   ],
   "source": [
    "a = np.array([1.7, 1.2, 1.6])\n",
    "b = a.astype(int)\n",
    "b"
   ]
  },
  {
   "cell_type": "code",
   "execution_count": 17,
   "metadata": {},
   "outputs": [
    {
     "name": "stdout",
     "output_type": "stream",
     "text": [
      "[1. 2. 2. 2. 4. 4.]\n",
      "[1 2 2 2 4 4]\n"
     ]
    }
   ],
   "source": [
    "a = np.array([1.2, 1.5, 1.6, 2.5, 3.5, 4.5])\n",
    "b = np.around(a)\n",
    "print (b)\n",
    "c = np.around(a).astype(int)\n",
    "print (c)"
   ]
  },
  {
   "cell_type": "markdown",
   "metadata": {},
   "source": [
    "Es interesante que trabajes con la conversión de tipos de carácter a numérico y\n",
    "viceversa.\n",
    "\n",
    "El término «broadcasting» describe la forma en la que NumPy trata a los vectores de\n",
    "diferentes dimensiones durante la ejecución de ciertas operaciones. En términos\n",
    "generales, el vector de menor dimensión es distribuido sobre el largo para conseguir\n",
    "dimensiones compatibles. Esto evita la creación de copias de los datos y favorece la\n",
    "creación de programas más eficientes. No obstante, es una técnica que requiere\n",
    "emplearse con cuidado ya que a veces puede ser perjudicial su uso, como ante ciertas\n",
    "operaciones binarias de funcionamiento particular previamente definidas por el\n",
    "usuario.\n",
    "## Broadcasting in Python."
   ]
  },
  {
   "cell_type": "code",
   "execution_count": 19,
   "metadata": {},
   "outputs": [
    {
     "data": {
      "text/plain": [
       "array([2., 4., 6.])"
      ]
     },
     "execution_count": 19,
     "metadata": {},
     "output_type": "execute_result"
    }
   ],
   "source": [
    "from numpy import array\n",
    "a = array([1.0, 2.0, 3.0])\n",
    "b = array([2.0, 2.0, 2.0])\n",
    "a * b #multiplicar entre matrices "
   ]
  },
  {
   "cell_type": "code",
   "execution_count": 20,
   "metadata": {},
   "outputs": [
    {
     "data": {
      "text/plain": [
       "array([[ 1.,  2.,  3.],\n",
       "       [11., 12., 13.],\n",
       "       [21., 22., 23.],\n",
       "       [31., 32., 33.]])"
      ]
     },
     "execution_count": 20,
     "metadata": {},
     "output_type": "execute_result"
    }
   ],
   "source": [
    "from numpy import array\n",
    "a = array([[ 0.0, 0.0, 0.0],\n",
    "           [10.0,10.0,10.0],\n",
    "           [20.0,20.0,20.0],\n",
    "           [30.0,30.0,30.0]])\n",
    "\n",
    "b = array([1.0, 2.0, 3.0])\n",
    "\n",
    "a + b # suma de matrices \n",
    "\n"
   ]
  },
  {
   "cell_type": "markdown",
   "metadata": {},
   "source": [
    "Las operaciones del álgebra lineal básica se realizan de forma muy sencilla con\n",
    "NumPy, pongamos algunos ejemplos."
   ]
  },
  {
   "cell_type": "code",
   "execution_count": 21,
   "metadata": {},
   "outputs": [
    {
     "name": "stdout",
     "output_type": "stream",
     "text": [
      "[[0.         0.97981194 0.         0.         0.        ]\n",
      " [0.         0.         0.         0.         0.        ]\n",
      " [0.         0.         0.         0.         0.        ]\n",
      " [0.86433735 0.         0.         0.         0.        ]\n",
      " [0.         0.         0.         0.         0.        ]\n",
      " [0.         0.         0.         0.95962266 0.        ]]\n"
     ]
    }
   ],
   "source": [
    "print(x.T)"
   ]
  },
  {
   "cell_type": "code",
   "execution_count": 24,
   "metadata": {},
   "outputs": [
    {
     "name": "stdout",
     "output_type": "stream",
     "text": [
      "[[0.         0.         0.         4.32168677 0.         0.        ]\n",
      " [4.89905969 0.         0.         0.         0.         0.        ]\n",
      " [0.         0.         0.         0.         0.         0.        ]\n",
      " [0.         0.         0.         0.         0.         4.79811331]\n",
      " [0.         0.         0.         0.         0.         0.        ]]\n",
      "[[3.         3.         3.         3.86433735 3.         3.        ]\n",
      " [3.97981194 3.         3.         3.         3.         3.        ]\n",
      " [3.         3.         3.         3.         3.         3.        ]\n",
      " [3.         3.         3.         3.         3.         3.95962266]\n",
      " [3.         3.         3.         3.         3.         3.        ]]\n"
     ]
    }
   ],
   "source": [
    "print(x*5)\n",
    "print(x+3)"
   ]
  },
  {
   "cell_type": "code",
   "execution_count": null,
   "metadata": {},
   "outputs": [],
   "source": [
    "print (x*x.T)\n",
    "print (np.dot(x,x.T))"
   ]
  },
  {
   "cell_type": "markdown",
   "metadata": {},
   "source": [
    "Para el cálculo del determinante y de la matriz inversa hay que acudir a la librería\n",
    "SciPy.\n",
    "## Cálculo del determinante"
   ]
  },
  {
   "cell_type": "code",
   "execution_count": 40,
   "metadata": {},
   "outputs": [
    {
     "data": {
      "text/plain": [
       "-2.0"
      ]
     },
     "execution_count": 40,
     "metadata": {},
     "output_type": "execute_result"
    }
   ],
   "source": [
    "from scipy import linalg\n",
    "arr = np.array([[1,2],\n",
    "                [3,4]])\n",
    "linalg.det(arr)"
   ]
  },
  {
   "cell_type": "markdown",
   "metadata": {},
   "source": [
    "## Cálculo de matriz inversa"
   ]
  },
  {
   "cell_type": "code",
   "execution_count": 41,
   "metadata": {},
   "outputs": [
    {
     "name": "stdout",
     "output_type": "stream",
     "text": [
      "[[-2.   1. ]\n",
      " [ 1.5 -0.5]]\n"
     ]
    }
   ],
   "source": [
    "print (linalg.inv(arr))"
   ]
  },
  {
   "cell_type": "markdown",
   "metadata": {},
   "source": [
    "El acceso a los datos es bastante intuitivo en función de la indexación de los datos,\n",
    "veamos algunos ejemplos."
   ]
  },
  {
   "cell_type": "code",
   "execution_count": null,
   "metadata": {},
   "outputs": [],
   "source": [
    "#Accediendo a los datos.\n",
    "print(b[0, 0])\n",
    "print(b[-1, -1])\n",
    "print(b[:, -1])"
   ]
  },
  {
   "cell_type": "code",
   "execution_count": null,
   "metadata": {},
   "outputs": [],
   "source": [
    "Accediendo a los datos."
   ]
  },
  {
   "cell_type": "code",
   "execution_count": 49,
   "metadata": {},
   "outputs": [
    {
     "name": "stdout",
     "output_type": "stream",
     "text": [
      "[[ 0  1  2  3  4  5]\n",
      " [10 11 12 13 14 15]\n",
      " [20 21 22 23 24 25]\n",
      " [30 31 32 33 34 35]\n",
      " [40 41 42 43 44 45]\n",
      " [50 51 52 53 54 55]]\n",
      "----\n",
      "[40 41 42 43]\n",
      "------\n",
      "[ 2 12 22 32 42 52]\n",
      "------\n",
      "[[20 22 24]\n",
      " [40 42 44]]\n"
     ]
    }
   ],
   "source": [
    "a = np.array([[10*j+i for i in range(6)] for j in range(6)])\n",
    "\n",
    "print (a)\n",
    "print (\"----\")\n",
    "print (a[4,:4:])\n",
    "print (\"------\")\n",
    "print (a[:, 2])\n",
    "print (\"------\")\n",
    "print (a[2::2, ::2])\n"
   ]
  },
  {
   "cell_type": "markdown",
   "metadata": {},
   "source": [
    "A la hora de copiar una matriz con todos sus atributos, se puede ejecutar la siguiente\n",
    "instrucción:"
   ]
  },
  {
   "cell_type": "code",
   "execution_count": 50,
   "metadata": {},
   "outputs": [],
   "source": [
    "c = np.array(a, copy = True)"
   ]
  },
  {
   "cell_type": "markdown",
   "metadata": {},
   "source": [
    "Como ejercicio, puedes comprobar las diferencias existentes entre la sentencia\n",
    "anterior y una asignación simple del tipo c = a\n",
    "\n",
    "## Trabajo con Pandas\n",
    "\n",
    "Una serie de Panda es un vector unidimensional sujeto a un índice que puede\n",
    "especificarse o no. Para crear una serie básica empleamos la siguiente función."
   ]
  },
  {
   "cell_type": "code",
   "execution_count": 54,
   "metadata": {},
   "outputs": [
    {
     "data": {
      "text/plain": [
       "0    1.0\n",
       "1    3.0\n",
       "2    5.0\n",
       "3    NaN\n",
       "4    6.0\n",
       "5    8.0\n",
       "dtype: float64"
      ]
     },
     "execution_count": 54,
     "metadata": {},
     "output_type": "execute_result"
    }
   ],
   "source": [
    "import pandas as pd\n",
    "\n",
    "s = pd.Series([1,3,5,np.nan,6,8])\n",
    "s"
   ]
  },
  {
   "cell_type": "markdown",
   "metadata": {},
   "source": [
    "No obstante, quizá la estructura de datos más usada de Panda sean los DataFrames.\n",
    "Los DataFrames se corresponden con estructuras bidimensionales donde las\n",
    "columnas están etiquetadas con su valor y pueden ser de tipos distintos. Puede\n",
    "pensarse en un DataFrame como algo similar a una hoja de cálculo de Excel. De forma\n",
    "opcional, un DataFrame puede tener un índice, que corresponderá a los nombres que\n",
    "\n",
    "se desea para las filas. A continuación se muestra un ejemplo de un DataFrame donde\n",
    "el índice corresponde a fechas."
   ]
  },
  {
   "cell_type": "code",
   "execution_count": null,
   "metadata": {},
   "outputs": [],
   "source": []
  }
 ],
 "metadata": {
  "kernelspec": {
   "display_name": "Python 3",
   "language": "python",
   "name": "python3"
  },
  "language_info": {
   "codemirror_mode": {
    "name": "ipython",
    "version": 3
   },
   "file_extension": ".py",
   "mimetype": "text/x-python",
   "name": "python",
   "nbconvert_exporter": "python",
   "pygments_lexer": "ipython3",
   "version": "3.7.6"
  }
 },
 "nbformat": 4,
 "nbformat_minor": 4
}
