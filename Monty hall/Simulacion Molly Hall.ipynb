{
 "cells": [
  {
   "cell_type": "code",
   "execution_count": 20,
   "metadata": {},
   "outputs": [],
   "source": [
    "import random\n",
    "def azar(): #para escogern en tre 1 y 3 puertas\n",
    "    return random.randrange(1,4)\n",
    "\n",
    "def puerta(): \n",
    "    ganar = azar()\n",
    "    escoger = azar()\n",
    "    abrir = azar()\n",
    "\n",
    "    while (abrir == ganar)|(abrir ==escoger):\n",
    "       abrir = azar()\n",
    "       cambio = azar()\n",
    "    while (cambio == abrir)|(cambio == escoger):\n",
    "       cambio = azar()\n",
    "\n",
    "    return (ganar, escoger, abrir, cambio)\n",
    "\n",
    "def jugar():\n",
    "    ganarcambio=0\n",
    "    ganarsincambio=0\n",
    "    for i in ranga(10):\n",
    "        ganar, escoger, abrir, cambio = puerta()\n",
    "    if ganar == escoger:\n",
    "        ganarsincambio = ganarsincambio +1\n",
    "    if ganar == cambio:\n",
    "        ganarcambio = ganarcambio +1\n",
    "    print(\"ganamos cambiando\", ganarcambio)\n",
    "    print(\"ganamos sin cambiando\", ganarsincambio)\n",
    "    \n",
    "    jugar()\n",
    "\n",
    "        \n",
    "    \n",
    "    "
   ]
  },
  {
   "cell_type": "code",
   "execution_count": null,
   "metadata": {},
   "outputs": [],
   "source": []
  }
 ],
 "metadata": {
  "kernelspec": {
   "display_name": "Python 3",
   "language": "python",
   "name": "python3"
  },
  "language_info": {
   "codemirror_mode": {
    "name": "ipython",
    "version": 3
   },
   "file_extension": ".py",
   "mimetype": "text/x-python",
   "name": "python",
   "nbconvert_exporter": "python",
   "pygments_lexer": "ipython3",
   "version": "3.7.6"
  }
 },
 "nbformat": 4,
 "nbformat_minor": 4
}
