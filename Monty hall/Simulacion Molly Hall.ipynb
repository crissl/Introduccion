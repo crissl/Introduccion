{
 "cells": [
  {
   "cell_type": "markdown",
   "metadata": {},
   "source": [
    "# El problema de Monty Hall\n",
    "El Problema de Monty Hall es un problema de probabilidad que está inspirado por el concurso televisivo estadounidense Let's Make a Deal(Hagamos un trato). , famoso entre 1963 y 1986. Su nombre proviene del presentador, Monty Hall.\n",
    "\n",
    "A primera vista parece obvio que da igual (opción 3). La intuición nos dice que ahora, quitando una puerta sin premio, la puerta que nosotros escogimos tiene un 50 % de tener una cabra y por tanto da igual cambiar que no hacerlo. Pero no sería una paradoja o problema si fuera tan trivial, ¿verdad?.\n",
    "\n",
    "segun esta teoria aunque paresca falsa es mas probable ganar si se cambia y se sabe lo que hay en una puerta, no seria solo un ganas o pierdes sino un ganas mas si cambias las puertas y menos si no las cambias. \n",
    "    "
   ]
  },
  {
   "cell_type": "code",
   "execution_count": 87,
   "metadata": {},
   "outputs": [
    {
     "name": "stdout",
     "output_type": "stream",
     "text": [
      "ganamos cambiando 12\n",
      "ganamos sin cambiando 3\n"
     ]
    }
   ],
   "source": [
    "import random\n",
    "\n",
    "def azar(): #para escogern en tre 1 y 3 puertas\n",
    "    return random.randrange(1,4)\n",
    "\n",
    "def puerta(): #se necesitarian 4 puertas\n",
    "    ganar = azar() #puerta ganadora\n",
    "    escoger = azar()#puerta elegida\n",
    "    abrir = azar()  # pueerta para abrir\n",
    "    while (abrir == ganar)|(abrir ==escoger):\n",
    "      abrir = azar()\n",
    "    cambio = azar() # pueerta para abrir con cambio\n",
    "    while (cambio == abrir)|(cambio == escoger):\n",
    "      cambio = azar()\n",
    "    return (ganar, escoger, abrir, cambio)\n",
    "\n",
    "def jugar():\n",
    "    ganarcambio=0 #empieza en 0\n",
    "    ganarsincambio=0 #empieza en 0\n",
    "    for i in range(15): #rago de partidas ajugar\n",
    "        ganar, escoger, abrir, cambio = puerta()\n",
    "        if ganar == escoger:\n",
    "            ganarsincambio = ganarsincambio + 1\n",
    "        if ganar == cambio:\n",
    "            ganarcambio = ganarcambio + 1\n",
    "            \n",
    "#             porcentaje_cambiando = (ganarcambio/i) * 100 #aqui se se hara el calculo del porcentaje en con cambio\n",
    "#             porcentaje_sin_cambiar = ( ganarsincambio/i) * 100 #aqui se hara el calculo del porcentaje en sin cambio\n",
    "    \n",
    "    print(\"ganamos cambiando\",  ganarcambio) #aqui se imprimira los valores de ganancia con pueratas cambiadas\n",
    "    print(\"ganamos sin cambiando\",  ganarsincambio) #aqui se imprimira los valores de ganancia sin cambiar de puerta \n",
    "    \n",
    "jugar()"
   ]
  },
  {
   "cell_type": "code",
   "execution_count": null,
   "metadata": {},
   "outputs": [],
   "source": []
  }
 ],
 "metadata": {
  "kernelspec": {
   "display_name": "Python 3",
   "language": "python",
   "name": "python3"
  },
  "language_info": {
   "codemirror_mode": {
    "name": "ipython",
    "version": 3
   },
   "file_extension": ".py",
   "mimetype": "text/x-python",
   "name": "python",
   "nbconvert_exporter": "python",
   "pygments_lexer": "ipython3",
   "version": "3.7.6"
  }
 },
 "nbformat": 4,
 "nbformat_minor": 4
}
